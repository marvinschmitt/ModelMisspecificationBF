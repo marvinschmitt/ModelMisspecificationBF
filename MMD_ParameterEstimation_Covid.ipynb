{
 "cells": [
  {
   "cell_type": "markdown",
   "metadata": {},
   "source": [
    "# This notebooks will replicate the results obtained by estimating our custom Covid-19 model"
   ]
  },
  {
   "cell_type": "code",
   "execution_count": 1,
   "metadata": {},
   "outputs": [],
   "source": [
    "import os, sys\n",
    "sys.path.append(os.path.abspath(os.path.join('../BayesFlow')))\n",
    "\n",
    "from functools import partial\n",
    "import datetime\n",
    "\n",
    "import numpy as np\n",
    "import matplotlib.pyplot as plt\n",
    "import seaborn as sns\n",
    "import pandas as pd\n",
    "from scipy import stats\n",
    "from scipy.stats import binom, nbinom\n",
    "\n",
    "import tensorflow as tf\n",
    "from tensorflow.keras.layers import Dense, Conv1D, LSTM\n",
    "from tensorflow.keras.models import Sequential"
   ]
  },
  {
   "cell_type": "code",
   "execution_count": 2,
   "metadata": {},
   "outputs": [],
   "source": [
    "from bayesflow.networks import InvertibleNetwork, InvariantNetwork\n",
    "from bayesflow.amortizers import SingleModelAmortizer\n",
    "from bayesflow.trainers import ParameterEstimationTrainer\n",
    "from bayesflow.diagnostics import *"
   ]
  },
  {
   "cell_type": "code",
   "execution_count": 3,
   "metadata": {},
   "outputs": [],
   "source": [
    "from abf_functions import *"
   ]
  },
  {
   "cell_type": "code",
   "execution_count": 4,
   "metadata": {},
   "outputs": [],
   "source": [
    "%load_ext autoreload\n",
    "%autoreload 2"
   ]
  },
  {
   "cell_type": "markdown",
   "metadata": {},
   "source": [
    "# Data Loading"
   ]
  },
  {
   "cell_type": "code",
   "execution_count": 5,
   "metadata": {
    "code_folding": [
     23
    ]
   },
   "outputs": [],
   "source": [
    "confirmed_cases_url = 'https://raw.githubusercontent.com/CSSEGISandData/COVID-19/master/csse_covid_19_data/csse_covid_19_time_series/time_series_covid19_confirmed_global.csv'\n",
    "recovered_cases_url = 'https://raw.githubusercontent.com/CSSEGISandData/COVID-19/master/csse_covid_19_data/csse_covid_19_time_series/time_series_covid19_recovered_global.csv'\n",
    "dead_cases_url = 'https://raw.githubusercontent.com/CSSEGISandData/COVID-19/master/csse_covid_19_data/csse_covid_19_time_series/time_series_covid19_deaths_global.csv'\n",
    "\n",
    "\n",
    "confirmed_cases = pd.read_csv(confirmed_cases_url, sep=',')\n",
    "recovered_cases = pd.read_csv(recovered_cases_url, sep=',')\n",
    "dead_cases = pd.read_csv(dead_cases_url, sep=',')\n",
    "\n",
    "\n",
    "date_data_begin = datetime.date(2020,3,1)\n",
    "date_data_end = datetime.date(2020,5,21)\n",
    "\n",
    "\n",
    "format_date = lambda date_py: '{}/{}/{}'.format(date_py.month, date_py.day,\n",
    "                                                 str(date_py.year)[2:4])\n",
    "date_formatted_begin = format_date(date_data_begin)\n",
    "date_formatted_end = format_date(date_data_end)\n",
    "\n",
    "cases_obs =  np.array(\n",
    "    confirmed_cases.loc[confirmed_cases[\"Country/Region\"] == \"Germany\", \n",
    "                        date_formatted_begin:date_formatted_end])[0]\n",
    "recovered_obs =  np.array(\n",
    "    recovered_cases.loc[recovered_cases[\"Country/Region\"] == \"Germany\", \n",
    "                        date_formatted_begin:date_formatted_end])[0]\n",
    "\n",
    "dead_obs =  np.array(\n",
    "    dead_cases.loc[dead_cases[\"Country/Region\"] == \"Germany\", \n",
    "                        date_formatted_begin:date_formatted_end])[0]\n",
    "\n",
    "data_germany = np.stack([cases_obs, recovered_obs, dead_obs]).T\n",
    "data_germany = np.diff(data_germany, axis=0)\n",
    "T_germany = data_germany.shape[0]\n",
    "N_germany = 83e6\n",
    "mean_g = np.mean(data_germany, axis=0)\n",
    "std_g = np.std(data_germany, axis=0)"
   ]
  },
  {
   "cell_type": "markdown",
   "metadata": {},
   "source": [
    "# Epidemiological Model"
   ]
  },
  {
   "cell_type": "code",
   "execution_count": 6,
   "metadata": {
    "code_folding": [
     4,
     43,
     59
    ]
   },
   "outputs": [],
   "source": [
    "alpha_f = (0.7**2)*((1-0.7)/(0.17**2) - (1-0.7))\n",
    "beta_f = alpha_f*(1/0.7 - 1)\n",
    "\n",
    "\n",
    "def prior_sir():\n",
    "    \"\"\"\n",
    "    Implements batch sampling from a stationary prior over the parameters\n",
    "    of the non-stationary SIR model.\n",
    "    \"\"\"\n",
    "    \n",
    "    t1 = np.random.normal(loc=8, scale=3)\n",
    "    t2 = np.random.normal(loc=15, scale=1)\n",
    "    t3 = np.random.normal(loc=22, scale=1)\n",
    "    t4 = np.random.normal(loc=66, scale=1) \n",
    "    delta_t1 = np.random.lognormal(mean=np.log(3), sigma=0.3)\n",
    "    delta_t2 = np.random.lognormal(mean=np.log(3), sigma=0.3)\n",
    "    delta_t3 = np.random.lognormal(mean=np.log(3), sigma=0.3)\n",
    "    delta_t4 = np.random.lognormal(mean=np.log(3), sigma=0.3)\n",
    "    lambd0 = np.random.lognormal(mean=np.log(1.2), sigma=0.5)\n",
    "    lambd1 = np.random.lognormal(mean=np.log(0.6), sigma=0.5)\n",
    "    lambd2 = np.random.lognormal(mean=np.log(0.3), sigma=0.5)\n",
    "    lambd3 = np.random.lognormal(mean=np.log(0.1), sigma=0.5)\n",
    "    lambd4 = np.random.lognormal(mean=np.log(0.1), sigma=0.5)\n",
    "    mu = np.random.lognormal(mean=np.log(1/8), sigma=0.2)\n",
    "    f_i = np.random.beta(a=alpha_f, b=beta_f)\n",
    "    phi_i = stats.vonmises(kappa=0.01).rvs()\n",
    "    f_r = np.random.beta(a=alpha_f, b=beta_f)\n",
    "    phi_r = stats.vonmises(kappa=0.01).rvs()\n",
    "    f_d = np.random.beta(a=alpha_f, b=beta_f)\n",
    "    phi_d = stats.vonmises(kappa=0.01).rvs()\n",
    "    D_i = np.random.lognormal(mean=np.log(8), sigma=0.2)\n",
    "    D_r = np.random.lognormal(mean=np.log(8), sigma=0.2)\n",
    "    D_d = np.random.lognormal(mean=np.log(8), sigma=0.2)\n",
    "    E0 = np.random.gamma(shape=2, scale=30)\n",
    "    scale_I = np.random.gamma(shape=1, scale=5)\n",
    "    scale_R = np.random.gamma(shape=1, scale=5)\n",
    "    scale_D = np.random.gamma(shape=1, scale=5)\n",
    "    return [t1, t2, t3, t4, delta_t1, delta_t2, delta_t3, delta_t4, \n",
    "            lambd0, lambd1, lambd2, lambd3, lambd4, mu, \n",
    "            f_i, phi_i, f_r, phi_r, f_d, phi_d, \n",
    "            D_i, D_r, D_d, E0, scale_I, scale_R, scale_D]\n",
    "\n",
    "\n",
    "def prior_secir():\n",
    "    \"\"\"\n",
    "    Implements batch sampling from a stationary prior over the parameters\n",
    "    of the non-stationary SIR model.\n",
    "    \"\"\"\n",
    "    \n",
    "    alpha = np.random.uniform(low=0.005, high=0.9)\n",
    "    beta = np.random.lognormal(mean=np.log(0.25), sigma=0.3)\n",
    "    gamma = np.random.lognormal(mean=np.log(1/6.5), sigma=0.5)\n",
    "    eta = np.random.lognormal(mean=np.log(1/3.2), sigma=0.3)\n",
    "    theta = np.random.uniform(low=1/14, high=1/3)\n",
    "    delta = np.random.uniform(low=0.01, high=0.3)\n",
    "    d = np.random.uniform(low=1/14, high=1/3)\n",
    "    return [alpha, beta, gamma, eta, theta, delta, d]\n",
    "\n",
    "\n",
    "def calc_lambda_array(sim_lag, lambd0, lambd1, lambd2, lambd3, lambd4, \n",
    "                      t1, t2, t3, t4, delta_t1, delta_t2, delta_t3, delta_t4, T):\n",
    "    \"\"\"Computes the array of time-varying contact rates/transimission probabilities.\"\"\"\n",
    "    \n",
    "    # Array of initial lambdas\n",
    "    lambd0_arr = np.array([lambd0] * (t1+sim_lag))\n",
    "    \n",
    "    # Compute lambd1 array\n",
    "    if delta_t1 == 1:\n",
    "        lambd1_arr = np.array([lambd1] * (t2-t1))\n",
    "    else:\n",
    "        lambd1_arr = np.linspace(lambd0, lambd1, delta_t1)\n",
    "        lambd1_arr = np.append(lambd1_arr, [lambd1] * (t2-t1-delta_t1))\n",
    "        \n",
    "    # Compute lambd2 array\n",
    "    if delta_t2 == 1:\n",
    "        lambd2_arr = np.array([lambd2] * (t3-t2))\n",
    "    else:\n",
    "        lambd2_arr = np.linspace(lambd1, lambd2, delta_t2)\n",
    "        lambd2_arr = np.append(lambd2_arr, [lambd2] * (t3-t2-delta_t2))\n",
    "        \n",
    "    # Compute lambd3 array\n",
    "    if delta_t3 == 1:\n",
    "        lambd3_arr = np.array([lambd3] * (t4-t3))\n",
    "    else:\n",
    "        lambd3_arr = np.linspace(lambd3, lambd4, delta_t3)\n",
    "        lambd3_arr = np.append(lambd3_arr, [lambd3] * (t4-t3-delta_t3))\n",
    "        \n",
    "    # Compute lambd4 array\n",
    "    if delta_t4 == 1:\n",
    "        lambd4_arr = np.array([lambd4] * (T-t4))\n",
    "    else:\n",
    "        lambd4_arr = np.linspace(lambd3, lambd4, delta_t4)\n",
    "        lambd4_arr = np.append(lambd4_arr, [lambd4] * (T-t4-delta_t4))\n",
    "    \n",
    "    return np.r_[lambd0_arr, lambd1_arr, lambd2_arr, lambd3_arr, lambd4_arr]\n",
    "\n",
    "    \n",
    "def non_stationary_SEICR(params_sir, params_secir, N, T, sim_diff=16, observation_model=True):\n",
    "    \"\"\"\n",
    "    Performs a forward simulation from the stationary SIR model.\n",
    "    \"\"\"\n",
    "    \n",
    "    # Extract parameters \n",
    "    t1, t2, t3, t4, delta_t1, delta_t2, delta_t3, delta_t4, lambd0, lambd1, lambd2, lambd3, lambd4, mu, f_i, phi_i, f_r, phi_r, f_d, phi_d, delay_i, delay_r, delay_d, E0, scale_I, scale_R, scale_D = params_sir\n",
    "    alpha, beta, gamma, eta, theta, delta, d = params_secir\n",
    "    \n",
    "    # Round integer parameters\n",
    "    t1, t2, t3, t4 = int(round(t1)), int(round(t2)), int(round(t3)), int(round(t4))\n",
    "    delta_t1, delta_t2, delta_t3, delta_t4 = int(round(delta_t1)), int(round(delta_t2)), int(round(delta_t3)), int(round(delta_t4))\n",
    "    E0 = max(1, np.round(E0)) \n",
    "    delay_i = int(round(delay_i)) \n",
    "    delay_r = int(round(delay_r)) \n",
    "    delay_d = int(round(delay_d)) \n",
    "    \n",
    "    # Impose constraints\n",
    "    assert sim_diff > delay_i\n",
    "    assert sim_diff > delay_r\n",
    "    assert sim_diff > delay_d\n",
    "    assert t1 > 0 and t2 > 0 and t3 > 0 and t4 > 0\n",
    "    assert t1 < t2 < t3 < t4\n",
    "    assert delta_t1 > 0 and delta_t2 > 0 and delta_t3 > 0 and delta_t4 > 0\n",
    "    assert t2 - t1 >= delta_t1 and t3 - t2 >= delta_t2 and t4-t3 >= delta_t3 and T-t4 >= delta_t4\n",
    "\n",
    "    # Calculate lambda arrays\n",
    "    # Lambda0 is the initial contact rate which will be consecutively\n",
    "    # reduced via the government measures\n",
    "    sim_lag = sim_diff - 1\n",
    "    lambd_arr = calc_lambda_array(sim_lag, lambd0, lambd1, lambd2, lambd3, lambd4, \n",
    "                                  t1, t2, t3, t4, delta_t1, delta_t2, delta_t3, delta_t4, T)\n",
    " \n",
    "    # Initial conditions\n",
    "    S, E, C, I, R, D = [N-E0], [E0], [0], [0], [0], [0]\n",
    "    \n",
    "    # Containers\n",
    "    I_news = []\n",
    "    R_news = []\n",
    "    D_news = []\n",
    "    \n",
    "    # Reported new cases\n",
    "    I_data = np.zeros(T)\n",
    "    R_data = np.zeros(T)\n",
    "    D_data = np.zeros(T)\n",
    "    fs_i = np.zeros(T)\n",
    "    fs_r = np.zeros(T)\n",
    "    fs_d = np.zeros(T)\n",
    " \n",
    "    # Simulate T-1 tiemsteps\n",
    "    for t in range(T+sim_lag):\n",
    "        \n",
    "        # Calculate new exposed cases\n",
    "        E_new = lambd_arr[t] * ((C[t] + beta*I[t])/N)*S[t]\n",
    "    \n",
    "        # Remove exposed from susceptible\n",
    "        S_t = S[t] - E_new\n",
    "        \n",
    "        # Calculate current exposed by adding new exposed and\n",
    "        # subtracting the exposed becoming carriers.\n",
    "        E_t = E[t] + E_new - gamma*E[t]\n",
    "        \n",
    "        # Calculate current carriers by adding the new exposed and subtracting\n",
    "        # those who will develop symptoms and become detected and those who\n",
    "        # will go through the disease asymptomatically.\n",
    "        C_t = C[t] + gamma*E[t] - (1-alpha)*eta*C[t] - alpha*theta*C[t]\n",
    "        \n",
    "        # Calculate current infected by adding the symptomatic carriers and \n",
    "        # subtracting the dead and recovered. The newly infected are just the \n",
    "        # carriers who get detected.\n",
    "        I_t = I[t] + (1-alpha)*eta*C[t] - (1-delta)*mu*I[t] - delta*d*I[t]\n",
    "        I_new = (1-alpha)*eta*C[t]\n",
    "        \n",
    "        # Calculate current recovered by adding the symptomatic and asymptomatic\n",
    "        # recovered. The newly recovered are only the detected recovered\n",
    "        R_t = R[t] + alpha*theta*C[t] + (1-delta)*mu*I[t]\n",
    "        R_new = (1-delta)*mu*I[t]\n",
    "        \n",
    "        # Calculate the current dead\n",
    "        D_t = D[t] + delta*d*I[t]\n",
    "        D_new = delta*d*I[t]\n",
    "        \n",
    "        # Ensure some numerical onstraints\n",
    "        S_t = np.clip(S_t, 0, N)\n",
    "        E_t = np.clip(E_t, 0, N)\n",
    "        C_t = np.clip(C_t, 0, N)\n",
    "        I_t = np.clip(I_t, 0, N)\n",
    "        R_t = np.clip(R_t, 0, N)\n",
    "        D_t = np.clip(D_t, 0, N)\n",
    "        \n",
    "        # Keep track of process over time\n",
    "        S.append(S_t)\n",
    "        E.append(E_t)\n",
    "        C.append(C_t)\n",
    "        I.append(I_t)\n",
    "        R.append(R_t)\n",
    "        D.append(D_t)\n",
    "        I_news.append(I_new)\n",
    "        R_news.append(R_new)\n",
    "        D_news.append(D_new)\n",
    "        \n",
    "        # From here, start adding new cases with delay D\n",
    "        # Note, we assume the same delay\n",
    "        if t >= sim_lag:\n",
    "            \n",
    "            # Compute lags and add to data arrays\n",
    "            fs_i[t-sim_lag] = (1-f_i)*(1 - np.abs( np.sin( (np.pi/7) * (t-sim_lag) - 0.5*phi_i)) )\n",
    "            fs_r[t-sim_lag] = (1-f_r)*(1 - np.abs( np.sin( (np.pi/7) * (t-sim_lag) - 0.5*phi_r)) )\n",
    "            fs_d[t-sim_lag] = (1-f_d)*(1 - np.abs( np.sin( (np.pi/7) * (t-sim_lag) - 0.5*phi_d)) )\n",
    "            I_data[t-sim_lag] = I_news[t-delay_i]\n",
    "            R_data[t-sim_lag] = R_news[t-delay_r]\n",
    "            D_data[t-sim_lag] = D_news[t-delay_d]\n",
    "            \n",
    "    # Compute weekly modulation\n",
    "    I_data = (1-fs_i) * I_data\n",
    "    R_data = (1-fs_r) * R_data\n",
    "    D_data = (1-fs_d) * D_data\n",
    "    \n",
    "    # Add noise\n",
    "    I_data = stats.t(df=4, loc=I_data, scale=np.sqrt(I_data)*scale_I).rvs()\n",
    "    R_data = stats.t(df=4, loc=R_data, scale=np.sqrt(R_data)*scale_R).rvs()\n",
    "    D_data = stats.t(df=4, loc=D_data, scale=np.sqrt(D_data)*scale_D).rvs()\n",
    "    \n",
    "    if observation_model:\n",
    "        return np.stack((I_data, R_data, D_data)).T\n",
    "    return np.stack((S, E, I, C, R, D)).T"
   ]
  },
  {
   "cell_type": "code",
   "execution_count": 7,
   "metadata": {
    "code_folding": []
   },
   "outputs": [],
   "source": [
    "def data_generator(n_sim, n_obs, N=None, sim_diff=21, N_min=10000, N_max=70000000):\n",
    "    \"\"\"\n",
    "    Runs the forward model 'batch_size' times by first sampling fromt the prior\n",
    "    theta ~ p(theta) and running x ~ p(x|theta).\n",
    "    \"\"\"\n",
    "    \n",
    "    # Variable size N\n",
    "    if N is None:\n",
    "        N = np.random.randint(N_min, N_max)\n",
    "        \n",
    "    # Generate data\n",
    "    # x is a np.ndarray of shape (batch_size, n_obs, x_dim)\n",
    "    x = []\n",
    "    theta = []\n",
    "    for i in range(n_sim):\n",
    "        \n",
    "        # Reject meaningless simulaitons\n",
    "        x_i = None\n",
    "        while x_i is None:\n",
    "            try:\n",
    "                theta1 = prior_sir()\n",
    "                theta2 = prior_secir()\n",
    "                x_i = non_stationary_SEICR(theta1, theta2, N, n_obs, sim_diff=sim_diff)\n",
    "                x_i = (x_i - mean_g) / std_g\n",
    "            except:\n",
    "                 pass\n",
    "        # Simulate SECIR\n",
    "        x.append(x_i)\n",
    "        theta.append(theta1 + theta2)\n",
    "    x = np.array(x)\n",
    "    theta = np.array(theta)\n",
    "\n",
    "    # Convert to tensor, if specified \n",
    "    return theta.astype(np.float32), x.astype(np.float32)"
   ]
  },
  {
   "cell_type": "code",
   "execution_count": 8,
   "metadata": {},
   "outputs": [],
   "source": [
    "param_names = [r'$t_1$', r'$t_2$', r'$t_3$', r'$t_4$',\n",
    "               r'$\\Delta t_1$', r'$\\Delta t_2$', r'$\\Delta t_3$', r'$\\Delta t_4$',\n",
    "               r'$\\lambda_0$', r'$\\lambda_1$', r'$\\lambda_2$', r'$\\lambda_3$', r'$\\lambda_4$', \n",
    "               r'$\\mu$', r'$f_I$', r'$\\phi_I$',  r'$f_R$', r'$\\phi_R$',  \n",
    "               r'$f_D$', r'$\\phi_D$',\n",
    "               r'$L_I$', r'$L_R$', r'$L_D$', r'$E_0$', r'$\\sigma_I$', r'$\\sigma_R$', r'$\\sigma_D$', \n",
    "               r'$\\alpha$', r'$\\beta$', r'$\\gamma$',\n",
    "               r'$\\eta$', r'$\\theta$', r'$\\delta$', r'$d$']"
   ]
  },
  {
   "cell_type": "code",
   "execution_count": 9,
   "metadata": {},
   "outputs": [],
   "source": [
    "data_gen = partial(data_generator, N=N_germany, sim_diff=16)"
   ]
  },
  {
   "cell_type": "markdown",
   "metadata": {},
   "source": [
    "# Network Definition"
   ]
  },
  {
   "cell_type": "code",
   "execution_count": 10,
   "metadata": {
    "code_folding": [
     13
    ]
   },
   "outputs": [],
   "source": [
    "class MultiConvLayer(tf.keras.Model):\n",
    "    \"\"\"Implements an inception-inspired conv layer using different kernel sizes\"\"\"\n",
    "    def __init__(self, n_filters=32, strides=1):\n",
    "        super(MultiConvLayer, self).__init__()\n",
    "        \n",
    "        self.convs = [\n",
    "            Conv1D(n_filters//2, kernel_size=f, strides=strides, \n",
    "                                   padding='causal', activation='relu', kernel_initializer='glorot_uniform')\n",
    "            for f in range(2, 8)\n",
    "        ]\n",
    "        self.dim_red = Conv1D(n_filters, 1, 1, activation='relu', kernel_initializer='glorot_uniform')\n",
    "        \n",
    "    def call(self, x):\n",
    "        \"\"\"x is a timeseries of dimensions B timestamps, n_features\"\"\"\n",
    "        \n",
    "        out = tf.concat([conv(x) for conv in self.convs], axis=-1)\n",
    "        out = self.dim_red(out)\n",
    "        return out\n",
    "    \n",
    "    \n",
    "class MultiConvNet(tf.keras.Model):\n",
    "    \"\"\"Implements an inception-inspired conv layer using different kernel sizes\"\"\"\n",
    "    def __init__(self, n_layers=3, n_filters=64, strides=1):\n",
    "        super(MultiConvNet, self).__init__()\n",
    "        \n",
    "        self.net = Sequential([\n",
    "            MultiConvLayer(n_filters, strides)\n",
    "            for _ in range(n_layers)\n",
    "        ])\n",
    "        \n",
    "        self.lstm = LSTM(n_filters)\n",
    "        \n",
    "    def call(self, x, **args):\n",
    "        \"\"\"x is a timeseries of dimensions B timestamps, n_features\"\"\"\n",
    "        \n",
    "        out = self.net(x)\n",
    "        out = self.lstm(out)\n",
    "        return out\n",
    "    \n",
    "    \n",
    "class SummaryNet(tf.keras.Model):\n",
    "    def __init__(self, n_summary=192):\n",
    "        super(SummaryNet, self).__init__()\n",
    "        self.net_I = MultiConvNet(n_filters=n_summary//3)\n",
    "        self.net_R = MultiConvNet(n_filters=n_summary//3)\n",
    "        self.net_D = MultiConvNet(n_filters=n_summary//3)\n",
    "    \n",
    "    def call(self, x, **args):\n",
    "        \"\"\"x is a timeseries of dimensions B timestamps, n_features\"\"\"\n",
    "        \n",
    "        x = tf.split(x, 3, axis=-1)\n",
    "        x_i = self.net_I(x[0])\n",
    "        x_r = self.net_R(x[1])\n",
    "        x_d = self.net_D(x[2])\n",
    "        return tf.concat([x_i, x_r, x_d], axis=-1)"
   ]
  },
  {
   "cell_type": "code",
   "execution_count": 11,
   "metadata": {},
   "outputs": [
    {
     "name": "stderr",
     "output_type": "stream",
     "text": [
      "2021-10-21 11:11:07.005961: I tensorflow/compiler/jit/xla_cpu_device.cc:41] Not creating XLA devices, tf_xla_enable_xla_devices not set\n",
      "2021-10-21 11:11:07.006202: I tensorflow/core/platform/cpu_feature_guard.cc:142] This TensorFlow binary is optimized with oneAPI Deep Neural Network Library (oneDNN) to use the following CPU instructions in performance-critical operations:  AVX2 FMA\n",
      "To enable them in other operations, rebuild TensorFlow with the appropriate compiler flags.\n"
     ]
    }
   ],
   "source": [
    "meta_dict={\n",
    "    'n_coupling_layers': 6,\n",
    "    's_args': {\n",
    "        'units': [192, 192, 192],\n",
    "        'activation': 'elu',\n",
    "        'initializer': 'glorot_uniform',\n",
    "    },\n",
    "    't_args': {\n",
    "        'units': [192, 192, 192],\n",
    "        'activation': 'elu',\n",
    "        'initializer': 'glorot_uniform',\n",
    "    },\n",
    "    'alpha': 1.9,\n",
    "    'use_permutation': True,\n",
    "    'use_act_norm': True,\n",
    "    'n_params': len(param_names),\n",
    "}\n",
    "\n",
    "\n",
    "summary_net = SummaryNet()\n",
    "inference_net = InvertibleNetwork(meta_dict)\n",
    "amortizer = SingleModelAmortizer(inference_net, summary_net)"
   ]
  },
  {
   "cell_type": "markdown",
   "metadata": {},
   "source": [
    "# Trainer"
   ]
  },
  {
   "cell_type": "code",
   "execution_count": 12,
   "metadata": {},
   "outputs": [
    {
     "name": "stdout",
     "output_type": "stream",
     "text": [
      "Networks loaded from export_ckpt/mmd/covid19/ckpt-50\n"
     ]
    }
   ],
   "source": [
    "starter_learning_rate = 0.0005\n",
    "learning_rate = tf.keras.optimizers.schedules.ExponentialDecay(\n",
    "    starter_learning_rate,\n",
    "    decay_steps=1000,\n",
    "    decay_rate=0.99,\n",
    "    staircase=True\n",
    ")\n",
    "\n",
    "\n",
    "trainer = ParameterEstimationTrainer(\n",
    "    network=amortizer, \n",
    "    generative_model=data_gen,\n",
    "    loss=mmd_kl_loss,\n",
    "    learning_rate=learning_rate,\n",
    "    checkpoint_path=f'export_ckpt/mmd/covid19',\n",
    "    max_to_keep=1\n",
    ")"
   ]
  },
  {
   "cell_type": "markdown",
   "metadata": {},
   "source": [
    "## Online Training"
   ]
  },
  {
   "cell_type": "code",
   "execution_count": null,
   "metadata": {},
   "outputs": [],
   "source": [
    "#%%time\n",
    "#losses = trainer.train_online(epochs=50, iterations_per_epoch=1000, batch_size=64, n_obs=T_germany)"
   ]
  },
  {
   "cell_type": "markdown",
   "metadata": {},
   "source": [
    "# Blind MM analysis"
   ]
  },
  {
   "cell_type": "code",
   "execution_count": null,
   "metadata": {},
   "outputs": [],
   "source": [
    "import pickle\n",
    "from abf_functions import *\n",
    "from tqdm import tqdm"
   ]
  },
  {
   "cell_type": "code",
   "execution_count": null,
   "metadata": {},
   "outputs": [],
   "source": [
    "with open('data/COVID_model_data/data_model_1.pkl', 'rb') as f:\n",
    "    x_1 = pickle.load(f)['x']\n",
    "with open('data/COVID_model_data/data_model_2.pkl', 'rb') as f:\n",
    "    x_2 = pickle.load(f)['x']\n",
    "with open('data/COVID_model_data/data_model_3.pkl', 'rb') as f:\n",
    "    x_3 = pickle.load(f)['x']\n",
    "with open('data/COVID_model_data/data_model_4.pkl', 'rb') as f:\n",
    "    x_4 = pickle.load(f)['x']\n",
    "\n",
    "_, x_star = trainer._forward_inference(1000, T_germany)\n",
    "\n",
    "s_1 = np.array(trainer.network.summary_net(x_1))\n",
    "s_2 = np.array(trainer.network.summary_net(x_2))\n",
    "s_3 = np.array(trainer.network.summary_net(x_3))\n",
    "s_4 = np.array(trainer.network.summary_net(x_4))"
   ]
  },
  {
   "cell_type": "code",
   "execution_count": null,
   "metadata": {},
   "outputs": [],
   "source": [
    "z_psi = np.array(trainer.network.summary_net(x_star))"
   ]
  },
  {
   "cell_type": "code",
   "execution_count": null,
   "metadata": {},
   "outputs": [],
   "source": [
    "x_1.shape"
   ]
  },
  {
   "cell_type": "code",
   "execution_count": null,
   "metadata": {},
   "outputs": [],
   "source": [
    "s_3.shape"
   ]
  },
  {
   "cell_type": "code",
   "execution_count": null,
   "metadata": {},
   "outputs": [],
   "source": [
    "for i, s in enumerate([s_1, s_2, s_3, s_4], 1):\n",
    "    print(f\"data_model_{i}: MMD={float(maximum_mean_discrepancy(s, z_psi, unbiased=True)):.3f}\")"
   ]
  },
  {
   "cell_type": "code",
   "execution_count": null,
   "metadata": {},
   "outputs": [],
   "source": [
    "K = 100\n",
    "MMD = np.empty(K)\n",
    "for k in range(K):\n",
    "    _, x = trainer._forward_inference(1, T_germany)\n",
    "    s  = np.array(trainer.network.summary_net(x))\n",
    "    MMD[k] = float(maximum_mean_discrepancy(s, z_psi, unbiased=True))"
   ]
  },
  {
   "cell_type": "code",
   "execution_count": null,
   "metadata": {},
   "outputs": [],
   "source": [
    "sns.kdeplot(MMD)\n",
    "plt.xlim(0)\n",
    "plt.title(\"Distribution of 100 MMDs with B=1 data from the trainer's generative model\")\n",
    "plt.axvline(x=MMD_germany_standardized, color=\"red\", linestyle=\"dashed\")\n",
    "plt.xlabel(r\"$\\widehat{MMD}^2_u$\")"
   ]
  },
  {
   "cell_type": "code",
   "execution_count": null,
   "metadata": {},
   "outputs": [],
   "source": [
    "data_germany_tensor = data_germany[np.newaxis, ...]\n",
    "data_germany_tensor.shape"
   ]
  },
  {
   "cell_type": "code",
   "execution_count": null,
   "metadata": {},
   "outputs": [],
   "source": [
    "# standardized\n",
    "data_germany_standardized = (data_germany_tensor - mean_g) / std_g\n",
    "s_germany_standardized = np.array(trainer.network.summary_net(data_germany_standardized))\n",
    "MMD_germany_standardized = float(maximum_mean_discrepancy(s_germany_standardized, z_psi, unbiased=True))\n",
    "print(\"standardized: MMD =\", MMD_germany_standardized)\n",
    "s_germany_standardized.shape"
   ]
  },
  {
   "cell_type": "code",
   "execution_count": null,
   "metadata": {},
   "outputs": [],
   "source": [
    "# non_standardized\n",
    "s_germany = np.array(trainer.network.summary_net(data_germany_tensor))\n",
    "print(\"non-standardized: MMD =\", float(maximum_mean_discrepancy(s_germany, z_psi, unbiased=True)))\n",
    "s_germany.shape"
   ]
  },
  {
   "cell_type": "code",
   "execution_count": null,
   "metadata": {},
   "outputs": [],
   "source": [
    "mmd2_null = mmd_permutation(s_germany_standardized, z_psi)"
   ]
  },
  {
   "cell_type": "code",
   "execution_count": null,
   "metadata": {},
   "outputs": [],
   "source": [
    "sns.kdeplot(mmd2_null)\n",
    "plt.xlim(0)\n",
    "plt.title(\"Permutation Test Germany Data standardized\")\n",
    "plt.axvline(x=MMD_germany_standardized, color=\"red\", linestyle=\"dashed\")\n",
    "plt.xlabel(r\"$\\widehat{MMD}^2_u$\")"
   ]
  },
  {
   "cell_type": "markdown",
   "metadata": {},
   "source": [
    "# PCA"
   ]
  },
  {
   "cell_type": "code",
   "execution_count": null,
   "metadata": {},
   "outputs": [],
   "source": [
    "from sklearn.decomposition import PCA"
   ]
  },
  {
   "cell_type": "code",
   "execution_count": null,
   "metadata": {},
   "outputs": [],
   "source": []
  },
  {
   "cell_type": "code",
   "execution_count": null,
   "metadata": {},
   "outputs": [],
   "source": [
    "_, x = trainer._forward_inference(1000, T_germany)\n",
    "s = np.array(trainer.network.summary_net(x))\n",
    "\n",
    "K = 192\n",
    "\n",
    "pca = PCA(K)\n",
    "pca.fit(s)\n",
    "\n",
    "cumsum_explained_variance_ratio = np.cumsum(pca.explained_variance_ratio_)"
   ]
  },
  {
   "cell_type": "code",
   "execution_count": null,
   "metadata": {},
   "outputs": [],
   "source": [
    "plt.plot(range(1, K+1), cumsum_explained_variance_ratio)\n",
    "plt.xlabel(\"Number of PCs\")\n",
    "plt.ylabel(\"Explained variance all PCs\")\n",
    "plt.ylim(0)\n",
    "plt.axhline(y=1.0, linestyle=\"dashed\", color=\"grey\")\n",
    "plt.grid()"
   ]
  },
  {
   "cell_type": "code",
   "execution_count": null,
   "metadata": {},
   "outputs": [],
   "source": [
    "cumsum_explained_variance_ratio[74]"
   ]
  },
  {
   "cell_type": "code",
   "execution_count": null,
   "metadata": {},
   "outputs": [],
   "source": [
    "# Generate data from trainer's generative model\n",
    "_, x = trainer._forward_inference(1000, T_germany)\n",
    "s = np.array(trainer.network.summary_net(x))\n",
    "\n",
    "# Fit PCA to data from trainer\n",
    "pca = PCA(2)\n",
    "pca.fit(s)\n",
    "\n",
    "\n",
    "# Generate more data from trainer's generative model\n",
    "_, x_star = trainer._forward_inference(1000, T_germany)\n",
    "s_star = trainer.network.summary_net(x_star)\n",
    "\n",
    "# Project all candidate data onto the Principal Components\n",
    "s_star_proj = pca.transform(s_star)\n",
    "s_1_proj = pca.transform(s_1)\n",
    "s_2_proj = pca.transform(s_2)\n",
    "s_3_proj = pca.transform(s_3)\n",
    "s_4_proj = pca.transform(s_4)"
   ]
  },
  {
   "cell_type": "code",
   "execution_count": null,
   "metadata": {},
   "outputs": [],
   "source": [
    "S = [s_star_proj, s_1_proj, s_2_proj, s_3_proj, s_4_proj]\n",
    "TASK_NAMES = ['x_star', 'x_1', 'x_2', 'x_3', 'x_4']\n",
    "\n",
    "DF = (pd.DataFrame(s, \n",
    "                     columns=[r'$Proj_{%i}$'%i for i in range(1, 3)]) for s in S)\n",
    "\n",
    "df = pd.concat(DF,\n",
    "              keys=TASK_NAMES,\n",
    "              names=['Model', None]\n",
    "              ).reset_index(level=0)\n",
    "\n",
    "g = sns.PairGrid(df, hue=\"Model\", palette=['red', 'orange', 'green', 'blue', 'brown'], height=3)\n",
    "\n",
    "g.map_upper(plt.scatter, alpha=0.1)\n",
    "g.map_diag(sns.kdeplot)\n",
    "g.map_lower(sns.kdeplot, alpha=0.50)\n",
    "\n",
    "g.add_legend()\n",
    "plt.setp(g._legend.get_title(), fontsize=16)\n",
    "plt.setp(g._legend.get_texts(), fontsize=14)"
   ]
  },
  {
   "cell_type": "markdown",
   "metadata": {},
   "source": [
    "### Separate PCAs"
   ]
  },
  {
   "cell_type": "code",
   "execution_count": null,
   "metadata": {},
   "outputs": [],
   "source": [
    "# Generate data from trainer's generative model\n",
    "_, x_star = trainer._forward_inference(1000, T_germany)\n",
    "s_star = trainer.network.summary_net(x_star)\n",
    "\n",
    "# Fit and project all data on separate PCAs based on them\n",
    "s_star_proj = PCA(2).fit_transform(s_star)\n",
    "s_1_proj = PCA(2).fit_transform(s_1)\n",
    "s_2_proj = PCA(2).fit_transform(s_2)\n",
    "s_3_proj = PCA(2).fit_transform(s_3)\n",
    "s_4_proj = PCA(2).fit_transform(s_4)"
   ]
  },
  {
   "cell_type": "code",
   "execution_count": null,
   "metadata": {},
   "outputs": [],
   "source": [
    "S = [s_star_proj, s_1_proj, s_2_proj, s_3_proj, s_4_proj]\n",
    "TASK_NAMES = ['x_star', 'x_1', 'x_2', 'x_3', 'x_4']\n",
    "\n",
    "DF = (pd.DataFrame(s, \n",
    "                     columns=[r'$Proj_{%i}$'%i for i in range(1, 3)]) for s in S)\n",
    "\n",
    "df = pd.concat(DF,\n",
    "              keys=TASK_NAMES,\n",
    "              names=['Model', None]\n",
    "              ).reset_index(level=0)\n",
    "\n",
    "g = sns.PairGrid(df, hue=\"Model\", palette=['red', 'orange', 'green', 'blue', 'brown'], height=3)\n",
    "\n",
    "g.map_upper(plt.scatter, alpha=0.1)\n",
    "g.map_diag(sns.kdeplot)\n",
    "g.map_lower(sns.kdeplot, alpha=0.50)\n",
    "\n",
    "g.add_legend()\n",
    "plt.setp(g._legend.get_title(), fontsize=16)\n",
    "plt.setp(g._legend.get_texts(), fontsize=14)"
   ]
  },
  {
   "cell_type": "code",
   "execution_count": null,
   "metadata": {},
   "outputs": [],
   "source": []
  },
  {
   "cell_type": "markdown",
   "metadata": {},
   "source": [
    "# Bootstrapping"
   ]
  },
  {
   "cell_type": "code",
   "execution_count": 45,
   "metadata": {},
   "outputs": [],
   "source": [
    "from tqdm.notebook import tqdm\n",
    "import pickle"
   ]
  },
  {
   "cell_type": "code",
   "execution_count": 14,
   "metadata": {},
   "outputs": [],
   "source": [
    "with open('data/COVID_model_data/data_model_1.pkl', 'rb') as f:\n",
    "    x_1 = pickle.load(f)['x']\n",
    "with open('data/COVID_model_data/data_model_2.pkl', 'rb') as f:\n",
    "    x_2 = pickle.load(f)['x']\n",
    "with open('data/COVID_model_data/data_model_3.pkl', 'rb') as f:\n",
    "    x_3 = pickle.load(f)['x']\n",
    "with open('data/COVID_model_data/data_model_4.pkl', 'rb') as f:\n",
    "    x_4 = pickle.load(f)['x']\n",
    "\n",
    "_, x_star = trainer._forward_inference(1000, T_germany)\n",
    "s_star = np.array(trainer.network.summary_net(x_star))\n",
    "\n",
    "s_1 = np.array(trainer.network.summary_net(x_1))\n",
    "s_2 = np.array(trainer.network.summary_net(x_2))\n",
    "s_3 = np.array(trainer.network.summary_net(x_3))\n",
    "s_4 = np.array(trainer.network.summary_net(x_4))"
   ]
  },
  {
   "cell_type": "code",
   "execution_count": 15,
   "metadata": {},
   "outputs": [],
   "source": [
    "MMD_1 = float(maximum_mean_discrepancy(s_1, s_star, unbiased=True))\n",
    "MMD_2 = float(maximum_mean_discrepancy(s_2, s_star, unbiased=True))\n",
    "MMD_3 = float(maximum_mean_discrepancy(s_3, s_star, unbiased=True))\n",
    "MMD_4 = float(maximum_mean_discrepancy(s_4, s_star, unbiased=True))"
   ]
  },
  {
   "cell_type": "code",
   "execution_count": 16,
   "metadata": {},
   "outputs": [],
   "source": [
    "def MMD_bootstrap(x_star, x_test, N_BOOTSTRAP_ITERATIONS=10):\n",
    "    n_star = x_star.shape[0]\n",
    "    n_test = x_test.shape[0]\n",
    "    \n",
    "    MMD_bootstrap = np.empty(N_BOOTSTRAP_ITERATIONS)\n",
    "\n",
    "    for i in tqdm(range(N_BOOTSTRAP_ITERATIONS)):\n",
    "        idx_star = np.random.randint(0, n_star, size=n_star)\n",
    "        idx_test = np.random.randint(0, n_test, size=n_test)\n",
    "        \n",
    "        x_star_bootstrap = x_star[idx_star]\n",
    "        x_test_bootstrap = x_test[idx_test]\n",
    "        \n",
    "        s_star_bootstrap = np.array(trainer.network.summary_net(x_star_bootstrap))\n",
    "        s_test_bootstrap = np.array(trainer.network.summary_net(x_test_bootstrap))\n",
    "        \n",
    "        MMD_bootstrap[i] = float(maximum_mean_discrepancy(s_star_bootstrap, s_test_bootstrap, unbiased=True))\n",
    "        \n",
    "    return MMD_bootstrap"
   ]
  },
  {
   "cell_type": "code",
   "execution_count": 17,
   "metadata": {},
   "outputs": [],
   "source": [
    "#MMD_1_bootstrap = MMD_bootstrap(x_star, x_1, N_BOOTSTRAP_ITERATIONS=100)\n",
    "#MMD_2_bootstrap = MMD_bootstrap(x_star, x_2, N_BOOTSTRAP_ITERATIONS=100)\n",
    "#MMD_3_bootstrap = MMD_bootstrap(x_star, x_3, N_BOOTSTRAP_ITERATIONS=100)\n",
    "#MMD_4_bootstrap = MMD_bootstrap(x_star, x_4, N_BOOTSTRAP_ITERATIONS=100)\n",
    "\n",
    "#np.save(\"data/MMD_bootstrapping/MMD_1_bootstrap.npy\", MMD_1_bootstrap)\n",
    "#np.save(\"data/MMD_bootstrapping/MMD_2_bootstrap.npy\", MMD_2_bootstrap)\n",
    "#np.save(\"data/MMD_bootstrapping/MMD_3_bootstrap.npy\", MMD_3_bootstrap)\n",
    "#np.save(\"data/MMD_bootstrapping/MMD_4_bootstrap.npy\", MMD_4_bootstrap)"
   ]
  },
  {
   "cell_type": "code",
   "execution_count": 18,
   "metadata": {},
   "outputs": [],
   "source": [
    "MMD_1_bootstrap = np.load(\"data/MMD_bootstrapping/MMD_1_bootstrap.npy\")\n",
    "MMD_2_bootstrap = np.load(\"data/MMD_bootstrapping/MMD_2_bootstrap.npy\")\n",
    "MMD_3_bootstrap = np.load(\"data/MMD_bootstrapping/MMD_3_bootstrap.npy\")\n",
    "MMD_4_bootstrap = np.load(\"data/MMD_bootstrapping/MMD_4_bootstrap.npy\")"
   ]
  },
  {
   "cell_type": "code",
   "execution_count": 22,
   "metadata": {},
   "outputs": [],
   "source": [
    "def calculate_CI(x, ci_area=0.95):\n",
    "    q_lower = round((1.0 - ci_area) / 2, 5)\n",
    "    q_upper = round(1.0 - q_lower, 5)\n",
    "    return np.quantile(x, q_lower), np.quantile(x, q_upper)"
   ]
  },
  {
   "cell_type": "code",
   "execution_count": 42,
   "metadata": {},
   "outputs": [
    {
     "name": "stdout",
     "output_type": "stream",
     "text": [
      "M1: 0.054 [0.044, 0.070]\n",
      "M2: 2.163 [2.031, 2.299]\n",
      "M3: 1.514 [1.425, 1.620]\n",
      "M4: 1.753 [1.693, 1.829]\n"
     ]
    }
   ],
   "source": [
    "MMDs_bootstrap = [MMD_1_bootstrap, MMD_2_bootstrap, MMD_3_bootstrap, MMD_4_bootstrap]\n",
    "\n",
    "for i, MMD_b in enumerate(MMDs_bootstrap, 1):\n",
    "    lower_bound, upper_bound = calculate_CI(MMD_b, ci_area=0.95)\n",
    "    median = np.median(MMD_b)\n",
    "    print(f\"M{i}: {median:.3f} [{lower_bound:.3f}, {upper_bound:.3f}]\")"
   ]
  },
  {
   "cell_type": "code",
   "execution_count": 19,
   "metadata": {},
   "outputs": [
    {
     "data": {
      "image/png": "[encoded data removed]",
      "text/plain": [
       "<Figure size 432x288 with 1 Axes>"
      ]
     },
     "metadata": {
      "needs_background": "light"
     },
     "output_type": "display_data"
    }
   ],
   "source": [
    "MMDs = [MMD_1, MMD_2, MMD_3, MMD_4]\n",
    "MMD_bootstraps = [MMD_1_bootstrap, MMD_2_bootstrap, MMD_3_bootstrap, MMD_4_bootstrap]\n",
    "colors = [\"red\", \"firebrick\", \"orange\", \"blue\"]\n",
    "\n",
    "fig, ax = plt.subplots()\n",
    "\n",
    "for i in range(4):\n",
    "    sns.kdeplot(MMD_bootstraps[i], ax=ax, label=f\"M{i+1}\")\n",
    "    ax.legend()\n",
    "    ax.set_title(r\"$\\widehat{MMD}^2_u$ for 100 bootstraps of $x^*$ and $x_{test}$\")\n",
    "    ax.set_xlabel(r\"$\\widehat{MMD}^2_u$\")"
   ]
  },
  {
   "cell_type": "code",
   "execution_count": null,
   "metadata": {},
   "outputs": [],
   "source": []
  },
  {
   "cell_type": "code",
   "execution_count": null,
   "metadata": {},
   "outputs": [],
   "source": []
  },
  {
   "cell_type": "code",
   "execution_count": 26,
   "metadata": {},
   "outputs": [],
   "source": [
    "def MMD_H0_single_instance(trainer, n_simulations, n_obs, n_simulations_reference=1000, plot=False):\n",
    "    _, x_star = trainer._forward_inference(n_simulations_reference, n_obs)\n",
    "    _, x_star_prime = trainer._forward_inference(n_simulations, n_obs)\n",
    "    s_star = trainer.network.summary_net(x_star)\n",
    "    s_star_prime = trainer.network.summary_net(x_star_prime)\n",
    "    \n",
    "    MMD_H0 = np.empty(n_simulations)\n",
    "    \n",
    "    for k in tqdm(range(n_simulations)):\n",
    "        MMD_H0[k] = float(maximum_mean_discrepancy(s_star, s_star_prime[np.newaxis, k, ...], unbiased=True))\n",
    "    \n",
    "    if plot:\n",
    "        sns.kdeplot(MMD_H0)\n",
    "    \n",
    "    return MMD_H0"
   ]
  },
  {
   "cell_type": "code",
   "execution_count": 27,
   "metadata": {},
   "outputs": [
    {
     "data": {
      "application/vnd.jupyter.widget-view+json": {
       "model_id": "23774e54c26849b9aed8d20996ba6c44",
       "version_major": 2,
       "version_minor": 0
      },
      "text/plain": [
       "  0%|          | 0/1000 [00:00<?, ?it/s]"
      ]
     },
     "metadata": {},
     "output_type": "display_data"
    },
    {
     "data": {
      "image/png": "[encoded data removed]",
      "text/plain": [
       "<Figure size 432x288 with 1 Axes>"
      ]
     },
     "metadata": {
      "needs_background": "light"
     },
     "output_type": "display_data"
    }
   ],
   "source": [
    "MMD_H0 = MMD_H0_single_instance(trainer, n_simulations=1000, n_obs=T_germany, plot=True)"
   ]
  },
  {
   "cell_type": "code",
   "execution_count": 28,
   "metadata": {},
   "outputs": [],
   "source": [
    "np.save(\"data/MMD_power/MMD_H0.npy\", MMD_H0)"
   ]
  },
  {
   "cell_type": "code",
   "execution_count": 46,
   "metadata": {},
   "outputs": [],
   "source": [
    "def MMD_power_analysis(x_star, x_test, MMD_H0, alpha=.05):\n",
    "    n_test = x_test.shape[0]\n",
    "    n_star = x_star.shape[0]\n",
    "\n",
    "    s_test = trainer.network.summary_net(x_test)\n",
    "    s_star = trainer.network.summary_net(x_star)\n",
    "\n",
    "    MMDs_test = np.empty(n_test)\n",
    "\n",
    "    for i in tqdm(range(n_test)):\n",
    "        MMDs_test[i] = float(maximum_mean_discrepancy(s_star, s_test[np.newaxis, i, ...], unbiased=True))\n",
    "\n",
    "    MMD_critical = np.quantile(MMD_H0, 1-alpha)    \n",
    "    power = (MMDs_test > MMD_critical).mean()       \n",
    "        \n",
    "    return power, MMDs_test"
   ]
  },
  {
   "cell_type": "code",
   "execution_count": 47,
   "metadata": {},
   "outputs": [],
   "source": [
    "_, x_star = trainer._forward_inference(1000, T_germany)"
   ]
  },
  {
   "cell_type": "code",
   "execution_count": 50,
   "metadata": {},
   "outputs": [],
   "source": [
    "#power_1, MMDs_single_1 = MMD_power_analysis(x_star, x_1, MMD_H0, alpha=.05)\n",
    "#power_2, MMDs_single_2 = MMD_power_analysis(x_star, x_2, MMD_H0, alpha=.05)\n",
    "#power_3, MMDs_single_3 = MMD_power_analysis(x_star, x_3, MMD_H0, alpha=.05)\n",
    "#power_4, MMDs_single_4 = MMD_power_analysis(x_star, x_4, MMD_H0, alpha=.05)\n",
    "\n",
    "#np.save(\"data/MMD_power/MMDs_single_1.npy\", MMDs_single_1)\n",
    "#np.save(\"data/MMD_power/MMDs_single_2.npy\", MMDs_single_2)\n",
    "#np.save(\"data/MMD_power/MMDs_single_3.npy\", MMDs_single_3)\n",
    "#np.save(\"data/MMD_power/MMDs_single_4.npy\", MMDs_single_4)\n",
    "\n",
    "#np.save(\"data/MMD_power/power_1.npy\", power_1)\n",
    "#np.save(\"data/MMD_power/power_2.npy\", power_2)\n",
    "#np.save(\"data/MMD_power/power_3.npy\", power_3)\n",
    "#np.save(\"data/MMD_power/power_4.npy\", power_4)"
   ]
  },
  {
   "cell_type": "code",
   "execution_count": 51,
   "metadata": {},
   "outputs": [
    {
     "name": "stdout",
     "output_type": "stream",
     "text": [
      "M1: 0.041\n",
      "M2: 0.358\n",
      "M3: 0.638\n",
      "M4: 0.338\n"
     ]
    }
   ],
   "source": [
    "MMDs_single_1 = np.load(\"data/MMD_power/MMDs_single_1.npy\")\n",
    "MMDs_single_2 = np.load(\"data/MMD_power/MMDs_single_2.npy\")\n",
    "MMDs_single_3 = np.load(\"data/MMD_power/MMDs_single_3.npy\")\n",
    "MMDs_single_4 = np.load(\"data/MMD_power/MMDs_single_4.npy\")\n",
    "\n",
    "power_1 = np.load(\"data/MMD_power/power_1.npy\")\n",
    "power_2 = np.load(\"data/MMD_power/power_2.npy\")\n",
    "power_3 = np.load(\"data/MMD_power/power_3.npy\")\n",
    "power_4 = np.load(\"data/MMD_power/power_4.npy\")\n",
    "\n",
    "for i, power in enumerate([power_1, power_2, power_3, power_4], 1):\n",
    "    print(f\"M{i}: {power:.3f}\")"
   ]
  },
  {
   "cell_type": "code",
   "execution_count": 75,
   "metadata": {},
   "outputs": [
    {
     "data": {
      "text/plain": [
       "<matplotlib.legend.Legend at 0x7facc5ea95b0>"
      ]
     },
     "execution_count": 75,
     "metadata": {},
     "output_type": "execute_result"
    },
    {
     "data": {
      "image/png": "[encoded data removed]",
      "text/plain": [
       "<Figure size 432x288 with 1 Axes>"
      ]
     },
     "metadata": {
      "needs_background": "light"
     },
     "output_type": "display_data"
    }
   ],
   "source": [
    "alpha = .05\n",
    "\n",
    "model_names = [r\"$\\mathcal{M}^*$\", r\"$\\mathcal{M}_1$\", r\"$\\mathcal{M}_2$\", r\"$\\mathcal{M}_3$\"]\n",
    "colors = [\"tab:orange\", \"tab:purple\", \"tab:green\", \"tab:olive\"]\n",
    "MMDs_singles = [MMDs_single_1, MMDs_single_2, MMDs_single_3, MMDs_single_4]\n",
    "\n",
    "MMD_critical = np.quantile(MMD_H0, 1-alpha)  \n",
    "\n",
    "fig, ax = plt.subplots()\n",
    "sns.kdeplot(MMD_H0, linewidth=7, label=r\"$H_0$\")\n",
    "for i in range(4):\n",
    "    sns.kdeplot(MMDs_singles[i], ax=ax, label=model_names[i], color=colors[i])\n",
    "    ax.set_title(r\"Power analysis\")\n",
    "    ax.set_xlabel(r\"$\\widehat{MMD}^2_u$\")\n",
    "ax.axvline(x=MMD_critical, color=\"firebrick\", linewidth=2, linestyle=\"dashed\", label=r\"$\\alpha=5\\%$\")\n",
    "ax.legend()"
   ]
  },
  {
   "cell_type": "code",
   "execution_count": null,
   "metadata": {},
   "outputs": [],
   "source": []
  }
 ],
 "metadata": {
  "kernelspec": {
   "display_name": "Python 3 (ipykernel)",
   "language": "python",
   "name": "python3"
  },
  "language_info": {
   "codemirror_mode": {
    "name": "ipython",
    "version": 3
   },
   "file_extension": ".py",
   "mimetype": "text/x-python",
   "name": "python",
   "nbconvert_exporter": "python",
   "pygments_lexer": "ipython3",
   "version": "3.8.0"
  },
  "toc": {
   "base_numbering": 1,
   "nav_menu": {},
   "number_sections": true,
   "sideBar": true,
   "skip_h1_title": false,
   "title_cell": "Table of Contents",
   "title_sidebar": "Contents",
   "toc_cell": false,
   "toc_position": {
    "height": "calc(100% - 180px)",
    "left": "10px",
    "top": "150px",
    "width": "307.2px"
   },
   "toc_section_display": true,
   "toc_window_display": true
  }
 },
 "nbformat": 4,
 "nbformat_minor": 4
}
