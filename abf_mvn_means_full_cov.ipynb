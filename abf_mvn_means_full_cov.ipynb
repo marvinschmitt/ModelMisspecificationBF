{
 "cells": [
  {
   "cell_type": "markdown",
   "metadata": {},
   "source": [
    "# Project: Adversarial BayesFlow"
   ]
  },
  {
   "cell_type": "markdown",
   "metadata": {},
   "source": [
    "# Experiment 2: MVN means and full covariance"
   ]
  },
  {
   "cell_type": "code",
   "execution_count": 1,
   "metadata": {},
   "outputs": [],
   "source": [
    "import os\n",
    "import sys\n",
    "\n",
    "import numpy as np\n",
    "import matplotlib.pyplot as plt\n",
    "import seaborn as sns\n",
    "import pandas as pd\n",
    "import scipy\n",
    "import tensorflow as tf\n",
    "import tensorflow_probability as tfp\n",
    "from scipy import stats\n",
    "from functools import partial\n",
    "\n",
    "from tqdm.notebook import tqdm\n",
    "\n",
    "sys.path.append(os.path.abspath(os.path.join('../BayesFlow')))\n",
    "\n",
    "from bayesflow.trainers import ParameterEstimationTrainer\n",
    "from bayesflow.networks import InvertibleNetwork, InvariantNetwork\n",
    "from bayesflow.amortizers import SingleModelAmortizer\n",
    "from bayesflow.models import GenerativeModel\n",
    "from bayesflow.exceptions import ConfigurationError\n",
    "from bayesflow.applications.priors import GaussianMeanPrior, TPrior, GaussianMeanCovPrior\n",
    "from bayesflow.applications.simulators import GaussianMeanSimulator, MultivariateTSimulator, GaussianMeanCovSimulator\n",
    "\n",
    "from abf_functions import *\n",
    "\n",
    "RERUN_GRID_EXPERIMENT = False"
   ]
  },
  {
   "cell_type": "code",
   "execution_count": 2,
   "metadata": {},
   "outputs": [],
   "source": [
    "plt.rcParams.update({\n",
    "    \"axes.labelsize\" : 20,\n",
    "    \"xtick.labelsize\" : 16,\n",
    "    \"ytick.labelsize\" : 16,\n",
    "    \"text.usetex\": True,\n",
    "    \"font.family\": \"serif\",\n",
    "    \"font.serif\": [\"Times\"],\n",
    "    'text.latex.preamble' : r'\\usepackage{{amsmath}}'\n",
    "})\n",
    "\n",
    "FILEFORMAT = 'pdf'\n",
    "DPI = 300"
   ]
  },
  {
   "cell_type": "code",
   "execution_count": 3,
   "metadata": {},
   "outputs": [],
   "source": [
    "gpu_devices = tf.config.experimental.list_physical_devices('GPU')\n",
    "for device in gpu_devices: tf.config.experimental.set_memory_growth(device, True)"
   ]
  },
  {
   "cell_type": "code",
   "execution_count": 4,
   "metadata": {},
   "outputs": [
    {
     "name": "stdout",
     "output_type": "stream",
     "text": [
      "Initializing networks from scratch.\n"
     ]
    }
   ],
   "source": [
    "D = 5\n",
    "\n",
    "#########\n",
    "\n",
    "class NormalInverseWishartPrior:\n",
    "    def __init__(self, D, mu_0=0.0, lamda_0=1.0, Psi_0=None, nu_0=None):\n",
    "        if Psi_0 is None:\n",
    "            Psi_0 = np.eye(D)\n",
    "        if nu_0 is None:\n",
    "            nu_0 = D+1\n",
    "        self.D = D,\n",
    "        self.mu_0 = mu_0\n",
    "        self.lamda_0 = lamda_0\n",
    "        self.Psi_0 = Psi_0\n",
    "        self.nu_0 = nu_0\n",
    "        \n",
    "        self.cov_prior = stats.invwishart(self.nu_0, self.Psi_0)\n",
    "        \n",
    "    def __call__(self, n_sim):\n",
    "        cov = self.cov_prior.rvs(n_sim)\n",
    "        tril_cov = tf.linalg.cholesky((1.0 / self.lamda_0) * cov)\n",
    "        means = tfp.distributions.MultivariateNormalTriL(self.mu_0, tril_cov).sample()\n",
    "        \n",
    "        return np.array(means, dtype=np.float32), np.array(cov, dtype=np.float32)\n",
    "\n",
    "\n",
    "def param_transform_full_cov(theta):\n",
    "    means, cov = theta\n",
    "    means = np.array(means)\n",
    "    n_sim, D = means.shape\n",
    "    cov = np.array(cov)\n",
    "    cov = cov[np.tril(cov).nonzero()].reshape(n_sim, -1)\n",
    "    return np.concatenate([means, cov], axis=1)\n",
    "\n",
    "\n",
    "mu_0 = 0.0\n",
    "lamda_0 = 5\n",
    "Psi_0 = np.eye(D)\n",
    "nu_0 = 10\n",
    "prior = NormalInverseWishartPrior(D=D, mu_0=mu_0, lamda_0=lamda_0, Psi_0=Psi_0, nu_0=nu_0)\n",
    "simulator = GaussianMeanCovSimulator()\n",
    "generative_model = GenerativeModel(prior, simulator, param_transform=param_transform_full_cov)\n",
    "\n",
    "#########\n",
    "\n",
    "summary_meta = {\n",
    "    'n_dense_s1': 2,\n",
    "    'n_dense_s2': 2,\n",
    "    'n_dense_s3': 2,\n",
    "    'n_equiv':    2,\n",
    "    'dense_s1_args': {'activation': 'relu', 'units': 64},\n",
    "    'dense_s2_args': {'activation': 'relu', 'units': 64},\n",
    "    'dense_s3_args': {'activation': 'relu', 'units': 64},\n",
    "}\n",
    "\n",
    "class BottleneckSummaryNet(tf.keras.Model):\n",
    "    def __init__(self, inv_meta={}, n_out=10, activation_out=None):\n",
    "        super(BottleneckSummaryNet, self).__init__()\n",
    "\n",
    "        self.invariant_net = InvariantNetwork(inv_meta)\n",
    "        self.out_layer = tf.keras.layers.Dense(n_out, activation=activation_out)\n",
    "    \n",
    "    def __call__(self, x):\n",
    "        out_inv = self.invariant_net(x)\n",
    "        out = self.out_layer(out_inv)\n",
    "        return out\n",
    "\n",
    "\n",
    "summary_net = BottleneckSummaryNet(inv_meta=summary_meta, \n",
    "                                   n_out=(sum(range(1, D+1)) + D),  \n",
    "                                   activation_out=None  # linear\n",
    ")\n",
    "\n",
    "\n",
    "inference_meta = {\n",
    "    'n_coupling_layers': 4,\n",
    "    's_args': {\n",
    "        'units': [128, 128],\n",
    "        'activation': 'elu',\n",
    "        'initializer': 'glorot_uniform',\n",
    "    },\n",
    "    't_args': {\n",
    "        'units': [128, 128],\n",
    "        'activation': 'elu',\n",
    "        'initializer': 'glorot_uniform',\n",
    "    },\n",
    "    'n_params': sum(range(1, D+1)) + D,   # lower diagonal cov (1+2+...+D) and D means\n",
    "    'alpha': 1.9,\n",
    "    'permute': True\n",
    "}\n",
    "\n",
    "inference_net = InvertibleNetwork(inference_meta)\n",
    "\n",
    "amortizer = SingleModelAmortizer(inference_net, summary_net)\n",
    "\n",
    "trainer = ParameterEstimationTrainer(amortizer,\n",
    "                      generative_model,\n",
    "                      loss=mmd_kl_loss,\n",
    "                      learning_rate=0.0005,\n",
    "                      checkpoint_path='export_ckpt/mmd/full_cov_5D',\n",
    "                      max_to_keep = 2\n",
    "                     )"
   ]
  },
  {
   "cell_type": "code",
   "execution_count": 5,
   "metadata": {},
   "outputs": [
    {
     "name": "stdout",
     "output_type": "stream",
     "text": [
      "Simulating initial 10000 data sets...\n",
      "Converting 10000 simulations to a TensorFlow data set...\n"
     ]
    },
    {
     "data": {
      "application/vnd.jupyter.widget-view+json": {
       "model_id": "0fec533324914b8ebe273e16200d5c96",
       "version_major": 2,
       "version_minor": 0
      },
      "text/plain": [
       "Training epoch 1:   0%|          | 0/79 [00:00<?, ?it/s]"
      ]
     },
     "metadata": {},
     "output_type": "display_data"
    },
    {
     "data": {
      "application/vnd.jupyter.widget-view+json": {
       "model_id": "ec1f3e2064f14804ab61e3fa5b84f00b",
       "version_major": 2,
       "version_minor": 0
      },
      "text/plain": [
       "Training epoch 2:   0%|          | 0/79 [00:00<?, ?it/s]"
      ]
     },
     "metadata": {},
     "output_type": "display_data"
    },
    {
     "data": {
      "application/vnd.jupyter.widget-view+json": {
       "model_id": "69fd04250a64487c935e3952e121eabd",
       "version_major": 2,
       "version_minor": 0
      },
      "text/plain": [
       "Training epoch 3:   0%|          | 0/79 [00:00<?, ?it/s]"
      ]
     },
     "metadata": {},
     "output_type": "display_data"
    },
    {
     "data": {
      "application/vnd.jupyter.widget-view+json": {
       "model_id": "9aa3c4637a51411b8a394be9fece32b1",
       "version_major": 2,
       "version_minor": 0
      },
      "text/plain": [
       "Training epoch 4:   0%|          | 0/79 [00:00<?, ?it/s]"
      ]
     },
     "metadata": {},
     "output_type": "display_data"
    },
    {
     "data": {
      "application/vnd.jupyter.widget-view+json": {
       "model_id": "c54b63d911e24dfd9d3a0db49b3f0d3a",
       "version_major": 2,
       "version_minor": 0
      },
      "text/plain": [
       "Training epoch 5:   0%|          | 0/79 [00:00<?, ?it/s]"
      ]
     },
     "metadata": {},
     "output_type": "display_data"
    },
    {
     "data": {
      "application/vnd.jupyter.widget-view+json": {
       "model_id": "de5715c1d1a34118ae90d5a76c141349",
       "version_major": 2,
       "version_minor": 0
      },
      "text/plain": [
       "Training epoch 6:   0%|          | 0/79 [00:00<?, ?it/s]"
      ]
     },
     "metadata": {},
     "output_type": "display_data"
    },
    {
     "data": {
      "application/vnd.jupyter.widget-view+json": {
       "model_id": "e831ef9573164f7fb978ca577b6e4bc8",
       "version_major": 2,
       "version_minor": 0
      },
      "text/plain": [
       "Training epoch 7:   0%|          | 0/79 [00:00<?, ?it/s]"
      ]
     },
     "metadata": {},
     "output_type": "display_data"
    },
    {
     "data": {
      "application/vnd.jupyter.widget-view+json": {
       "model_id": "13c9f9c9b83341878ff6adb6ec828abd",
       "version_major": 2,
       "version_minor": 0
      },
      "text/plain": [
       "Training epoch 8:   0%|          | 0/79 [00:00<?, ?it/s]"
      ]
     },
     "metadata": {},
     "output_type": "display_data"
    },
    {
     "data": {
      "application/vnd.jupyter.widget-view+json": {
       "model_id": "c2f772b4f837494590b8de97a43ce8d9",
       "version_major": 2,
       "version_minor": 0
      },
      "text/plain": [
       "Training epoch 9:   0%|          | 0/79 [00:00<?, ?it/s]"
      ]
     },
     "metadata": {},
     "output_type": "display_data"
    },
    {
     "data": {
      "application/vnd.jupyter.widget-view+json": {
       "model_id": "76522996e76f4aa687f02fa9c0eab891",
       "version_major": 2,
       "version_minor": 0
      },
      "text/plain": [
       "Training epoch 10:   0%|          | 0/79 [00:00<?, ?it/s]"
      ]
     },
     "metadata": {},
     "output_type": "display_data"
    },
    {
     "name": "stdout",
     "output_type": "stream",
     "text": [
      "Simulating new 10000 data sets and appending to previous...\n",
      "New total number of simulated data sets: 20000\n",
      "Converting 20000 simulations to a TensorFlow data set...\n"
     ]
    },
    {
     "data": {
      "application/vnd.jupyter.widget-view+json": {
       "model_id": "8b34a465b24a4d14b877fa1172aca4ed",
       "version_major": 2,
       "version_minor": 0
      },
      "text/plain": [
       "Training epoch 1:   0%|          | 0/157 [00:00<?, ?it/s]"
      ]
     },
     "metadata": {},
     "output_type": "display_data"
    },
    {
     "data": {
      "application/vnd.jupyter.widget-view+json": {
       "model_id": "7faf5e2e3f104d12b4eb56380eb22f1a",
       "version_major": 2,
       "version_minor": 0
      },
      "text/plain": [
       "Training epoch 2:   0%|          | 0/157 [00:00<?, ?it/s]"
      ]
     },
     "metadata": {},
     "output_type": "display_data"
    },
    {
     "data": {
      "application/vnd.jupyter.widget-view+json": {
       "model_id": "807c714e0f534e8ea7b94fffca20e6a2",
       "version_major": 2,
       "version_minor": 0
      },
      "text/plain": [
       "Training epoch 3:   0%|          | 0/157 [00:00<?, ?it/s]"
      ]
     },
     "metadata": {},
     "output_type": "display_data"
    },
    {
     "data": {
      "application/vnd.jupyter.widget-view+json": {
       "model_id": "3dece7ede10b4d5b8563a4ddc0e7194f",
       "version_major": 2,
       "version_minor": 0
      },
      "text/plain": [
       "Training epoch 4:   0%|          | 0/157 [00:00<?, ?it/s]"
      ]
     },
     "metadata": {},
     "output_type": "display_data"
    },
    {
     "data": {
      "application/vnd.jupyter.widget-view+json": {
       "model_id": "7acb9fd82f5245b1a0941b7480cb4909",
       "version_major": 2,
       "version_minor": 0
      },
      "text/plain": [
       "Training epoch 5:   0%|          | 0/157 [00:00<?, ?it/s]"
      ]
     },
     "metadata": {},
     "output_type": "display_data"
    },
    {
     "data": {
      "application/vnd.jupyter.widget-view+json": {
       "model_id": "7abd7aa60c034efb9302fbb2563b98f7",
       "version_major": 2,
       "version_minor": 0
      },
      "text/plain": [
       "Training epoch 6:   0%|          | 0/157 [00:00<?, ?it/s]"
      ]
     },
     "metadata": {},
     "output_type": "display_data"
    },
    {
     "data": {
      "application/vnd.jupyter.widget-view+json": {
       "model_id": "ca351450c0654084aa9d0666a6c62d0a",
       "version_major": 2,
       "version_minor": 0
      },
      "text/plain": [
       "Training epoch 7:   0%|          | 0/157 [00:00<?, ?it/s]"
      ]
     },
     "metadata": {},
     "output_type": "display_data"
    },
    {
     "data": {
      "application/vnd.jupyter.widget-view+json": {
       "model_id": "25d85b262172487eb2a1825847b8a04f",
       "version_major": 2,
       "version_minor": 0
      },
      "text/plain": [
       "Training epoch 8:   0%|          | 0/157 [00:00<?, ?it/s]"
      ]
     },
     "metadata": {},
     "output_type": "display_data"
    },
    {
     "data": {
      "application/vnd.jupyter.widget-view+json": {
       "model_id": "57974566922a40bd9a2e91d96392d696",
       "version_major": 2,
       "version_minor": 0
      },
      "text/plain": [
       "Training epoch 9:   0%|          | 0/157 [00:00<?, ?it/s]"
      ]
     },
     "metadata": {},
     "output_type": "display_data"
    },
    {
     "data": {
      "application/vnd.jupyter.widget-view+json": {
       "model_id": "e384843c010748e3a9a487d9bd26ce19",
       "version_major": 2,
       "version_minor": 0
      },
      "text/plain": [
       "Training epoch 10:   0%|          | 0/157 [00:00<?, ?it/s]"
      ]
     },
     "metadata": {},
     "output_type": "display_data"
    },
    {
     "name": "stdout",
     "output_type": "stream",
     "text": [
      "Simulating new 10000 data sets and appending to previous...\n",
      "New total number of simulated data sets: 30000\n",
      "Converting 30000 simulations to a TensorFlow data set...\n"
     ]
    },
    {
     "data": {
      "application/vnd.jupyter.widget-view+json": {
       "model_id": "9b58eaefe37a49c28d2c7d2d23d04cc0",
       "version_major": 2,
       "version_minor": 0
      },
      "text/plain": [
       "Training epoch 1:   0%|          | 0/235 [00:00<?, ?it/s]"
      ]
     },
     "metadata": {},
     "output_type": "display_data"
    },
    {
     "data": {
      "application/vnd.jupyter.widget-view+json": {
       "model_id": "6a804586db1b490e87142dbe2736948a",
       "version_major": 2,
       "version_minor": 0
      },
      "text/plain": [
       "Training epoch 2:   0%|          | 0/235 [00:00<?, ?it/s]"
      ]
     },
     "metadata": {},
     "output_type": "display_data"
    },
    {
     "data": {
      "application/vnd.jupyter.widget-view+json": {
       "model_id": "ff1bc773f0a649c7a0214dd20d4138d4",
       "version_major": 2,
       "version_minor": 0
      },
      "text/plain": [
       "Training epoch 3:   0%|          | 0/235 [00:00<?, ?it/s]"
      ]
     },
     "metadata": {},
     "output_type": "display_data"
    },
    {
     "data": {
      "application/vnd.jupyter.widget-view+json": {
       "model_id": "8ac584d936ae4507a6c0ab3f9a34105e",
       "version_major": 2,
       "version_minor": 0
      },
      "text/plain": [
       "Training epoch 4:   0%|          | 0/235 [00:00<?, ?it/s]"
      ]
     },
     "metadata": {},
     "output_type": "display_data"
    },
    {
     "data": {
      "application/vnd.jupyter.widget-view+json": {
       "model_id": "e2f10a647e494846bda9a403fbb9ee5e",
       "version_major": 2,
       "version_minor": 0
      },
      "text/plain": [
       "Training epoch 5:   0%|          | 0/235 [00:00<?, ?it/s]"
      ]
     },
     "metadata": {},
     "output_type": "display_data"
    },
    {
     "data": {
      "application/vnd.jupyter.widget-view+json": {
       "model_id": "2e33197e3b6f484c9e531f948699a95f",
       "version_major": 2,
       "version_minor": 0
      },
      "text/plain": [
       "Training epoch 6:   0%|          | 0/235 [00:00<?, ?it/s]"
      ]
     },
     "metadata": {},
     "output_type": "display_data"
    },
    {
     "data": {
      "application/vnd.jupyter.widget-view+json": {
       "model_id": "b37ee698eff84fbeb3ad17d266011853",
       "version_major": 2,
       "version_minor": 0
      },
      "text/plain": [
       "Training epoch 7:   0%|          | 0/235 [00:00<?, ?it/s]"
      ]
     },
     "metadata": {},
     "output_type": "display_data"
    },
    {
     "data": {
      "application/vnd.jupyter.widget-view+json": {
       "model_id": "c18694b87ad44f1c851187d8452656ac",
       "version_major": 2,
       "version_minor": 0
      },
      "text/plain": [
       "Training epoch 8:   0%|          | 0/235 [00:00<?, ?it/s]"
      ]
     },
     "metadata": {},
     "output_type": "display_data"
    },
    {
     "data": {
      "application/vnd.jupyter.widget-view+json": {
       "model_id": "03b7df56c6534094b8c529b31593e408",
       "version_major": 2,
       "version_minor": 0
      },
      "text/plain": [
       "Training epoch 9:   0%|          | 0/235 [00:00<?, ?it/s]"
      ]
     },
     "metadata": {},
     "output_type": "display_data"
    },
    {
     "data": {
      "application/vnd.jupyter.widget-view+json": {
       "model_id": "4a94f129d75a4528a807dcc6e1415a6c",
       "version_major": 2,
       "version_minor": 0
      },
      "text/plain": [
       "Training epoch 10:   0%|          | 0/235 [00:00<?, ?it/s]"
      ]
     },
     "metadata": {},
     "output_type": "display_data"
    },
    {
     "name": "stdout",
     "output_type": "stream",
     "text": [
      "Simulating new 10000 data sets and appending to previous...\n",
      "New total number of simulated data sets: 40000\n",
      "Converting 40000 simulations to a TensorFlow data set...\n"
     ]
    },
    {
     "data": {
      "application/vnd.jupyter.widget-view+json": {
       "model_id": "895269f06683410c8b51938b949c837b",
       "version_major": 2,
       "version_minor": 0
      },
      "text/plain": [
       "Training epoch 1:   0%|          | 0/313 [00:00<?, ?it/s]"
      ]
     },
     "metadata": {},
     "output_type": "display_data"
    },
    {
     "data": {
      "application/vnd.jupyter.widget-view+json": {
       "model_id": "3a254e1c28594218882622dd163741c7",
       "version_major": 2,
       "version_minor": 0
      },
      "text/plain": [
       "Training epoch 2:   0%|          | 0/313 [00:00<?, ?it/s]"
      ]
     },
     "metadata": {},
     "output_type": "display_data"
    },
    {
     "data": {
      "application/vnd.jupyter.widget-view+json": {
       "model_id": "5c437083017a4e008b8bf9f7ba486e2a",
       "version_major": 2,
       "version_minor": 0
      },
      "text/plain": [
       "Training epoch 3:   0%|          | 0/313 [00:00<?, ?it/s]"
      ]
     },
     "metadata": {},
     "output_type": "display_data"
    },
    {
     "data": {
      "application/vnd.jupyter.widget-view+json": {
       "model_id": "a0a07acdafc24caa909258fb19043d93",
       "version_major": 2,
       "version_minor": 0
      },
      "text/plain": [
       "Training epoch 4:   0%|          | 0/313 [00:00<?, ?it/s]"
      ]
     },
     "metadata": {},
     "output_type": "display_data"
    },
    {
     "data": {
      "application/vnd.jupyter.widget-view+json": {
       "model_id": "6b9dd6166003483196e85585b954d264",
       "version_major": 2,
       "version_minor": 0
      },
      "text/plain": [
       "Training epoch 5:   0%|          | 0/313 [00:00<?, ?it/s]"
      ]
     },
     "metadata": {},
     "output_type": "display_data"
    },
    {
     "data": {
      "application/vnd.jupyter.widget-view+json": {
       "model_id": "7735853322b84cada30a0879b621636a",
       "version_major": 2,
       "version_minor": 0
      },
      "text/plain": [
       "Training epoch 6:   0%|          | 0/313 [00:00<?, ?it/s]"
      ]
     },
     "metadata": {},
     "output_type": "display_data"
    },
    {
     "data": {
      "application/vnd.jupyter.widget-view+json": {
       "model_id": "206a041e7ad24d2a8d9fa667b9599163",
       "version_major": 2,
       "version_minor": 0
      },
      "text/plain": [
       "Training epoch 7:   0%|          | 0/313 [00:00<?, ?it/s]"
      ]
     },
     "metadata": {},
     "output_type": "display_data"
    },
    {
     "data": {
      "application/vnd.jupyter.widget-view+json": {
       "model_id": "bde1458915d74991a1ad03683eceb5ad",
       "version_major": 2,
       "version_minor": 0
      },
      "text/plain": [
       "Training epoch 8:   0%|          | 0/313 [00:00<?, ?it/s]"
      ]
     },
     "metadata": {},
     "output_type": "display_data"
    },
    {
     "data": {
      "application/vnd.jupyter.widget-view+json": {
       "model_id": "7c2b79e6c4b0467c8a74530d089c5f67",
       "version_major": 2,
       "version_minor": 0
      },
      "text/plain": [
       "Training epoch 9:   0%|          | 0/313 [00:00<?, ?it/s]"
      ]
     },
     "metadata": {},
     "output_type": "display_data"
    },
    {
     "data": {
      "application/vnd.jupyter.widget-view+json": {
       "model_id": "13a01b384a324286b173ee5460d8802e",
       "version_major": 2,
       "version_minor": 0
      },
      "text/plain": [
       "Training epoch 10:   0%|          | 0/313 [00:00<?, ?it/s]"
      ]
     },
     "metadata": {},
     "output_type": "display_data"
    },
    {
     "name": "stdout",
     "output_type": "stream",
     "text": [
      "Simulating new 10000 data sets and appending to previous...\n",
      "New total number of simulated data sets: 50000\n",
      "Converting 50000 simulations to a TensorFlow data set...\n"
     ]
    },
    {
     "data": {
      "application/vnd.jupyter.widget-view+json": {
       "model_id": "4c395a66f2a5452a8bfc95cd7e67d87e",
       "version_major": 2,
       "version_minor": 0
      },
      "text/plain": [
       "Training epoch 1:   0%|          | 0/391 [00:00<?, ?it/s]"
      ]
     },
     "metadata": {},
     "output_type": "display_data"
    },
    {
     "data": {
      "application/vnd.jupyter.widget-view+json": {
       "model_id": "cb00d1eefff14eb6a937112108c4f47e",
       "version_major": 2,
       "version_minor": 0
      },
      "text/plain": [
       "Training epoch 2:   0%|          | 0/391 [00:00<?, ?it/s]"
      ]
     },
     "metadata": {},
     "output_type": "display_data"
    },
    {
     "data": {
      "application/vnd.jupyter.widget-view+json": {
       "model_id": "a5d9818abe2f463a8ed7bff6a145ac57",
       "version_major": 2,
       "version_minor": 0
      },
      "text/plain": [
       "Training epoch 3:   0%|          | 0/391 [00:00<?, ?it/s]"
      ]
     },
     "metadata": {},
     "output_type": "display_data"
    },
    {
     "data": {
      "application/vnd.jupyter.widget-view+json": {
       "model_id": "fa21366c6744410db20908b6c001b3af",
       "version_major": 2,
       "version_minor": 0
      },
      "text/plain": [
       "Training epoch 4:   0%|          | 0/391 [00:00<?, ?it/s]"
      ]
     },
     "metadata": {},
     "output_type": "display_data"
    },
    {
     "data": {
      "application/vnd.jupyter.widget-view+json": {
       "model_id": "704daade466b4c3d877813e5ed01e56e",
       "version_major": 2,
       "version_minor": 0
      },
      "text/plain": [
       "Training epoch 5:   0%|          | 0/391 [00:00<?, ?it/s]"
      ]
     },
     "metadata": {},
     "output_type": "display_data"
    },
    {
     "data": {
      "application/vnd.jupyter.widget-view+json": {
       "model_id": "9e6d78167ebc44c0810d71d8e2d66035",
       "version_major": 2,
       "version_minor": 0
      },
      "text/plain": [
       "Training epoch 6:   0%|          | 0/391 [00:00<?, ?it/s]"
      ]
     },
     "metadata": {},
     "output_type": "display_data"
    },
    {
     "data": {
      "application/vnd.jupyter.widget-view+json": {
       "model_id": "41a84d2fb95c449fa0612300e9619b2c",
       "version_major": 2,
       "version_minor": 0
      },
      "text/plain": [
       "Training epoch 7:   0%|          | 0/391 [00:00<?, ?it/s]"
      ]
     },
     "metadata": {},
     "output_type": "display_data"
    },
    {
     "data": {
      "application/vnd.jupyter.widget-view+json": {
       "model_id": "adaf19e8894c4b4d9ae1e6784e7afb0c",
       "version_major": 2,
       "version_minor": 0
      },
      "text/plain": [
       "Training epoch 8:   0%|          | 0/391 [00:00<?, ?it/s]"
      ]
     },
     "metadata": {},
     "output_type": "display_data"
    },
    {
     "data": {
      "application/vnd.jupyter.widget-view+json": {
       "model_id": "34a1fa811d114088b565f24f8d6112b4",
       "version_major": 2,
       "version_minor": 0
      },
      "text/plain": [
       "Training epoch 9:   0%|          | 0/391 [00:00<?, ?it/s]"
      ]
     },
     "metadata": {},
     "output_type": "display_data"
    },
    {
     "data": {
      "application/vnd.jupyter.widget-view+json": {
       "model_id": "c922b1b93bfa401e93a2ad34bbf42d30",
       "version_major": 2,
       "version_minor": 0
      },
      "text/plain": [
       "Training epoch 10:   0%|          | 0/391 [00:00<?, ?it/s]"
      ]
     },
     "metadata": {},
     "output_type": "display_data"
    },
    {
     "name": "stdout",
     "output_type": "stream",
     "text": [
      "Simulating new 10000 data sets and appending to previous...\n",
      "New total number of simulated data sets: 60000\n",
      "Converting 60000 simulations to a TensorFlow data set...\n"
     ]
    },
    {
     "data": {
      "application/vnd.jupyter.widget-view+json": {
       "model_id": "cd50b5604dd044a991148725734cf8ab",
       "version_major": 2,
       "version_minor": 0
      },
      "text/plain": [
       "Training epoch 1:   0%|          | 0/469 [00:00<?, ?it/s]"
      ]
     },
     "metadata": {},
     "output_type": "display_data"
    },
    {
     "data": {
      "application/vnd.jupyter.widget-view+json": {
       "model_id": "9611ba8322344dc28d8d21574e0c0044",
       "version_major": 2,
       "version_minor": 0
      },
      "text/plain": [
       "Training epoch 2:   0%|          | 0/469 [00:00<?, ?it/s]"
      ]
     },
     "metadata": {},
     "output_type": "display_data"
    },
    {
     "data": {
      "application/vnd.jupyter.widget-view+json": {
       "model_id": "4f689bc40e324c0db0a92312da827a52",
       "version_major": 2,
       "version_minor": 0
      },
      "text/plain": [
       "Training epoch 3:   0%|          | 0/469 [00:00<?, ?it/s]"
      ]
     },
     "metadata": {},
     "output_type": "display_data"
    },
    {
     "data": {
      "application/vnd.jupyter.widget-view+json": {
       "model_id": "79b7bf675543480499433faceaa80ae0",
       "version_major": 2,
       "version_minor": 0
      },
      "text/plain": [
       "Training epoch 4:   0%|          | 0/469 [00:00<?, ?it/s]"
      ]
     },
     "metadata": {},
     "output_type": "display_data"
    },
    {
     "data": {
      "application/vnd.jupyter.widget-view+json": {
       "model_id": "50bd0a7b9eec448f9e7f9fbb9895c9f6",
       "version_major": 2,
       "version_minor": 0
      },
      "text/plain": [
       "Training epoch 5:   0%|          | 0/469 [00:00<?, ?it/s]"
      ]
     },
     "metadata": {},
     "output_type": "display_data"
    },
    {
     "data": {
      "application/vnd.jupyter.widget-view+json": {
       "model_id": "445b307b9fb34e668625a11213a2ad88",
       "version_major": 2,
       "version_minor": 0
      },
      "text/plain": [
       "Training epoch 6:   0%|          | 0/469 [00:00<?, ?it/s]"
      ]
     },
     "metadata": {},
     "output_type": "display_data"
    },
    {
     "data": {
      "application/vnd.jupyter.widget-view+json": {
       "model_id": "e249b353720c49e79c6a8ac79ed7fd71",
       "version_major": 2,
       "version_minor": 0
      },
      "text/plain": [
       "Training epoch 7:   0%|          | 0/469 [00:00<?, ?it/s]"
      ]
     },
     "metadata": {},
     "output_type": "display_data"
    },
    {
     "data": {
      "application/vnd.jupyter.widget-view+json": {
       "model_id": "ba04b2e9fe5b4035b179553438e7bf0a",
       "version_major": 2,
       "version_minor": 0
      },
      "text/plain": [
       "Training epoch 8:   0%|          | 0/469 [00:00<?, ?it/s]"
      ]
     },
     "metadata": {},
     "output_type": "display_data"
    },
    {
     "data": {
      "application/vnd.jupyter.widget-view+json": {
       "model_id": "60f233a7f1b8435490a6789f29c56e7b",
       "version_major": 2,
       "version_minor": 0
      },
      "text/plain": [
       "Training epoch 9:   0%|          | 0/469 [00:00<?, ?it/s]"
      ]
     },
     "metadata": {},
     "output_type": "display_data"
    },
    {
     "data": {
      "application/vnd.jupyter.widget-view+json": {
       "model_id": "57c2911670bb43cb92b5f62a41fd5ba9",
       "version_major": 2,
       "version_minor": 0
      },
      "text/plain": [
       "Training epoch 10:   0%|          | 0/469 [00:00<?, ?it/s]"
      ]
     },
     "metadata": {},
     "output_type": "display_data"
    },
    {
     "name": "stdout",
     "output_type": "stream",
     "text": [
      "Simulating new 10000 data sets and appending to previous...\n",
      "New total number of simulated data sets: 70000\n",
      "Converting 70000 simulations to a TensorFlow data set...\n"
     ]
    },
    {
     "data": {
      "application/vnd.jupyter.widget-view+json": {
       "model_id": "e1744b668ac24f29977da39742e4794a",
       "version_major": 2,
       "version_minor": 0
      },
      "text/plain": [
       "Training epoch 1:   0%|          | 0/547 [00:00<?, ?it/s]"
      ]
     },
     "metadata": {},
     "output_type": "display_data"
    },
    {
     "data": {
      "application/vnd.jupyter.widget-view+json": {
       "model_id": "4a7569e7ee854d8b96ce8ac68574b70b",
       "version_major": 2,
       "version_minor": 0
      },
      "text/plain": [
       "Training epoch 2:   0%|          | 0/547 [00:00<?, ?it/s]"
      ]
     },
     "metadata": {},
     "output_type": "display_data"
    },
    {
     "data": {
      "application/vnd.jupyter.widget-view+json": {
       "model_id": "ea45f0a522b04be08b734c52e226eb34",
       "version_major": 2,
       "version_minor": 0
      },
      "text/plain": [
       "Training epoch 3:   0%|          | 0/547 [00:00<?, ?it/s]"
      ]
     },
     "metadata": {},
     "output_type": "display_data"
    },
    {
     "data": {
      "application/vnd.jupyter.widget-view+json": {
       "model_id": "84d1c79fe003427eb75080e77f57d999",
       "version_major": 2,
       "version_minor": 0
      },
      "text/plain": [
       "Training epoch 4:   0%|          | 0/547 [00:00<?, ?it/s]"
      ]
     },
     "metadata": {},
     "output_type": "display_data"
    },
    {
     "data": {
      "application/vnd.jupyter.widget-view+json": {
       "model_id": "37eaf2f2c62440f08727a74c2e9d4b0b",
       "version_major": 2,
       "version_minor": 0
      },
      "text/plain": [
       "Training epoch 5:   0%|          | 0/547 [00:00<?, ?it/s]"
      ]
     },
     "metadata": {},
     "output_type": "display_data"
    },
    {
     "data": {
      "application/vnd.jupyter.widget-view+json": {
       "model_id": "093f3728ef3a405abfdd170d93b972f4",
       "version_major": 2,
       "version_minor": 0
      },
      "text/plain": [
       "Training epoch 6:   0%|          | 0/547 [00:00<?, ?it/s]"
      ]
     },
     "metadata": {},
     "output_type": "display_data"
    },
    {
     "data": {
      "application/vnd.jupyter.widget-view+json": {
       "model_id": "d10e32d9a52c4f88b1245f97a377513d",
       "version_major": 2,
       "version_minor": 0
      },
      "text/plain": [
       "Training epoch 7:   0%|          | 0/547 [00:00<?, ?it/s]"
      ]
     },
     "metadata": {},
     "output_type": "display_data"
    },
    {
     "data": {
      "application/vnd.jupyter.widget-view+json": {
       "model_id": "3d5cd29332f44361acb3c7c9b67da6fc",
       "version_major": 2,
       "version_minor": 0
      },
      "text/plain": [
       "Training epoch 8:   0%|          | 0/547 [00:00<?, ?it/s]"
      ]
     },
     "metadata": {},
     "output_type": "display_data"
    },
    {
     "data": {
      "application/vnd.jupyter.widget-view+json": {
       "model_id": "cb473bc572a54244b6c947d48a225477",
       "version_major": 2,
       "version_minor": 0
      },
      "text/plain": [
       "Training epoch 9:   0%|          | 0/547 [00:00<?, ?it/s]"
      ]
     },
     "metadata": {},
     "output_type": "display_data"
    },
    {
     "data": {
      "application/vnd.jupyter.widget-view+json": {
       "model_id": "9c1a967298ba40c597ad7a88c2560e2b",
       "version_major": 2,
       "version_minor": 0
      },
      "text/plain": [
       "Training epoch 10:   0%|          | 0/547 [00:00<?, ?it/s]"
      ]
     },
     "metadata": {},
     "output_type": "display_data"
    },
    {
     "name": "stdout",
     "output_type": "stream",
     "text": [
      "Simulating new 10000 data sets and appending to previous...\n",
      "New total number of simulated data sets: 80000\n",
      "Converting 80000 simulations to a TensorFlow data set...\n"
     ]
    },
    {
     "data": {
      "application/vnd.jupyter.widget-view+json": {
       "model_id": "af7b87b60e3c4bd1827113c5bd007799",
       "version_major": 2,
       "version_minor": 0
      },
      "text/plain": [
       "Training epoch 1:   0%|          | 0/625 [00:00<?, ?it/s]"
      ]
     },
     "metadata": {},
     "output_type": "display_data"
    },
    {
     "data": {
      "application/vnd.jupyter.widget-view+json": {
       "model_id": "726743f90b4d436fa9d8cd7dd3482bb2",
       "version_major": 2,
       "version_minor": 0
      },
      "text/plain": [
       "Training epoch 2:   0%|          | 0/625 [00:00<?, ?it/s]"
      ]
     },
     "metadata": {},
     "output_type": "display_data"
    },
    {
     "data": {
      "application/vnd.jupyter.widget-view+json": {
       "model_id": "1b39926789714ec199731d37cb4ce36c",
       "version_major": 2,
       "version_minor": 0
      },
      "text/plain": [
       "Training epoch 3:   0%|          | 0/625 [00:00<?, ?it/s]"
      ]
     },
     "metadata": {},
     "output_type": "display_data"
    },
    {
     "data": {
      "application/vnd.jupyter.widget-view+json": {
       "model_id": "de4e809356044e5fa0dd0d0d5ee7e6d6",
       "version_major": 2,
       "version_minor": 0
      },
      "text/plain": [
       "Training epoch 4:   0%|          | 0/625 [00:00<?, ?it/s]"
      ]
     },
     "metadata": {},
     "output_type": "display_data"
    },
    {
     "data": {
      "application/vnd.jupyter.widget-view+json": {
       "model_id": "40e8287988324303a14377c72cfd2c19",
       "version_major": 2,
       "version_minor": 0
      },
      "text/plain": [
       "Training epoch 5:   0%|          | 0/625 [00:00<?, ?it/s]"
      ]
     },
     "metadata": {},
     "output_type": "display_data"
    },
    {
     "data": {
      "application/vnd.jupyter.widget-view+json": {
       "model_id": "45fdb52cef4c4bd7ac238091ccd21269",
       "version_major": 2,
       "version_minor": 0
      },
      "text/plain": [
       "Training epoch 6:   0%|          | 0/625 [00:00<?, ?it/s]"
      ]
     },
     "metadata": {},
     "output_type": "display_data"
    },
    {
     "data": {
      "application/vnd.jupyter.widget-view+json": {
       "model_id": "7c5d035edef246a4bf025a7119966f29",
       "version_major": 2,
       "version_minor": 0
      },
      "text/plain": [
       "Training epoch 7:   0%|          | 0/625 [00:00<?, ?it/s]"
      ]
     },
     "metadata": {},
     "output_type": "display_data"
    },
    {
     "data": {
      "application/vnd.jupyter.widget-view+json": {
       "model_id": "9355132b3edc48ca98b71240bc0d367e",
       "version_major": 2,
       "version_minor": 0
      },
      "text/plain": [
       "Training epoch 8:   0%|          | 0/625 [00:00<?, ?it/s]"
      ]
     },
     "metadata": {},
     "output_type": "display_data"
    },
    {
     "data": {
      "application/vnd.jupyter.widget-view+json": {
       "model_id": "58459aa1402b49b3b86fbeca0c9b4eaa",
       "version_major": 2,
       "version_minor": 0
      },
      "text/plain": [
       "Training epoch 9:   0%|          | 0/625 [00:00<?, ?it/s]"
      ]
     },
     "metadata": {},
     "output_type": "display_data"
    },
    {
     "data": {
      "application/vnd.jupyter.widget-view+json": {
       "model_id": "9cfb33af1b584e46a9a2314d4f4e6aeb",
       "version_major": 2,
       "version_minor": 0
      },
      "text/plain": [
       "Training epoch 10:   0%|          | 0/625 [00:00<?, ?it/s]"
      ]
     },
     "metadata": {},
     "output_type": "display_data"
    },
    {
     "name": "stdout",
     "output_type": "stream",
     "text": [
      "Simulating new 10000 data sets and appending to previous...\n",
      "New total number of simulated data sets: 90000\n",
      "Converting 90000 simulations to a TensorFlow data set...\n"
     ]
    },
    {
     "data": {
      "application/vnd.jupyter.widget-view+json": {
       "model_id": "7cd4e855896c43519a00bd1f4b49f92d",
       "version_major": 2,
       "version_minor": 0
      },
      "text/plain": [
       "Training epoch 1:   0%|          | 0/704 [00:00<?, ?it/s]"
      ]
     },
     "metadata": {},
     "output_type": "display_data"
    },
    {
     "data": {
      "application/vnd.jupyter.widget-view+json": {
       "model_id": "a4f741bc3ed548cc874162c1e72a0056",
       "version_major": 2,
       "version_minor": 0
      },
      "text/plain": [
       "Training epoch 2:   0%|          | 0/704 [00:00<?, ?it/s]"
      ]
     },
     "metadata": {},
     "output_type": "display_data"
    },
    {
     "data": {
      "application/vnd.jupyter.widget-view+json": {
       "model_id": "23fa41cb99174b8f99dad738df14e155",
       "version_major": 2,
       "version_minor": 0
      },
      "text/plain": [
       "Training epoch 3:   0%|          | 0/704 [00:00<?, ?it/s]"
      ]
     },
     "metadata": {},
     "output_type": "display_data"
    },
    {
     "data": {
      "application/vnd.jupyter.widget-view+json": {
       "model_id": "c385fbf9755e4d22b6a4ce399f6228a1",
       "version_major": 2,
       "version_minor": 0
      },
      "text/plain": [
       "Training epoch 4:   0%|          | 0/704 [00:00<?, ?it/s]"
      ]
     },
     "metadata": {},
     "output_type": "display_data"
    },
    {
     "data": {
      "application/vnd.jupyter.widget-view+json": {
       "model_id": "f953691ebd63403691756d8f76a9f794",
       "version_major": 2,
       "version_minor": 0
      },
      "text/plain": [
       "Training epoch 5:   0%|          | 0/704 [00:00<?, ?it/s]"
      ]
     },
     "metadata": {},
     "output_type": "display_data"
    },
    {
     "data": {
      "application/vnd.jupyter.widget-view+json": {
       "model_id": "23b1626bd6fb439ab46ef4ee58678f5d",
       "version_major": 2,
       "version_minor": 0
      },
      "text/plain": [
       "Training epoch 6:   0%|          | 0/704 [00:00<?, ?it/s]"
      ]
     },
     "metadata": {},
     "output_type": "display_data"
    },
    {
     "data": {
      "application/vnd.jupyter.widget-view+json": {
       "model_id": "2370926fe2d24078a47ceec7a148a160",
       "version_major": 2,
       "version_minor": 0
      },
      "text/plain": [
       "Training epoch 7:   0%|          | 0/704 [00:00<?, ?it/s]"
      ]
     },
     "metadata": {},
     "output_type": "display_data"
    },
    {
     "data": {
      "application/vnd.jupyter.widget-view+json": {
       "model_id": "85baa79d57ab4069981d5854d91ab047",
       "version_major": 2,
       "version_minor": 0
      },
      "text/plain": [
       "Training epoch 8:   0%|          | 0/704 [00:00<?, ?it/s]"
      ]
     },
     "metadata": {},
     "output_type": "display_data"
    },
    {
     "data": {
      "application/vnd.jupyter.widget-view+json": {
       "model_id": "227442733cb548efae7ad057d4a44d5d",
       "version_major": 2,
       "version_minor": 0
      },
      "text/plain": [
       "Training epoch 9:   0%|          | 0/704 [00:00<?, ?it/s]"
      ]
     },
     "metadata": {},
     "output_type": "display_data"
    },
    {
     "data": {
      "application/vnd.jupyter.widget-view+json": {
       "model_id": "fcb83eb402e3450cba3cb498e9f34b43",
       "version_major": 2,
       "version_minor": 0
      },
      "text/plain": [
       "Training epoch 10:   0%|          | 0/704 [00:00<?, ?it/s]"
      ]
     },
     "metadata": {},
     "output_type": "display_data"
    },
    {
     "name": "stdout",
     "output_type": "stream",
     "text": [
      "Simulating new 10000 data sets and appending to previous...\n",
      "New total number of simulated data sets: 100000\n",
      "Converting 100000 simulations to a TensorFlow data set...\n"
     ]
    },
    {
     "data": {
      "application/vnd.jupyter.widget-view+json": {
       "model_id": "182c7298f6bb47daab73b16c7f9684dd",
       "version_major": 2,
       "version_minor": 0
      },
      "text/plain": [
       "Training epoch 1:   0%|          | 0/782 [00:00<?, ?it/s]"
      ]
     },
     "metadata": {},
     "output_type": "display_data"
    },
    {
     "data": {
      "application/vnd.jupyter.widget-view+json": {
       "model_id": "1d69b5ffeb3d42b09146a5b1c681b866",
       "version_major": 2,
       "version_minor": 0
      },
      "text/plain": [
       "Training epoch 2:   0%|          | 0/782 [00:00<?, ?it/s]"
      ]
     },
     "metadata": {},
     "output_type": "display_data"
    },
    {
     "data": {
      "application/vnd.jupyter.widget-view+json": {
       "model_id": "046c14e521354275b48f3a63645d4de3",
       "version_major": 2,
       "version_minor": 0
      },
      "text/plain": [
       "Training epoch 3:   0%|          | 0/782 [00:00<?, ?it/s]"
      ]
     },
     "metadata": {},
     "output_type": "display_data"
    },
    {
     "data": {
      "application/vnd.jupyter.widget-view+json": {
       "model_id": "69757c13b72942b7a8146e87f97e6b64",
       "version_major": 2,
       "version_minor": 0
      },
      "text/plain": [
       "Training epoch 4:   0%|          | 0/782 [00:00<?, ?it/s]"
      ]
     },
     "metadata": {},
     "output_type": "display_data"
    },
    {
     "data": {
      "application/vnd.jupyter.widget-view+json": {
       "model_id": "93d2bb2d82e94790b59ae43365c0c094",
       "version_major": 2,
       "version_minor": 0
      },
      "text/plain": [
       "Training epoch 5:   0%|          | 0/782 [00:00<?, ?it/s]"
      ]
     },
     "metadata": {},
     "output_type": "display_data"
    },
    {
     "data": {
      "application/vnd.jupyter.widget-view+json": {
       "model_id": "5ae75467288a4875a144d002eb689aee",
       "version_major": 2,
       "version_minor": 0
      },
      "text/plain": [
       "Training epoch 6:   0%|          | 0/782 [00:00<?, ?it/s]"
      ]
     },
     "metadata": {},
     "output_type": "display_data"
    },
    {
     "data": {
      "application/vnd.jupyter.widget-view+json": {
       "model_id": "e350fda0d8e54701a066bad359ba986d",
       "version_major": 2,
       "version_minor": 0
      },
      "text/plain": [
       "Training epoch 7:   0%|          | 0/782 [00:00<?, ?it/s]"
      ]
     },
     "metadata": {},
     "output_type": "display_data"
    },
    {
     "data": {
      "application/vnd.jupyter.widget-view+json": {
       "model_id": "3717cc71af304aa2902ceb679b045767",
       "version_major": 2,
       "version_minor": 0
      },
      "text/plain": [
       "Training epoch 8:   0%|          | 0/782 [00:00<?, ?it/s]"
      ]
     },
     "metadata": {},
     "output_type": "display_data"
    },
    {
     "data": {
      "application/vnd.jupyter.widget-view+json": {
       "model_id": "4c05e8d267394954825175a418edb9d7",
       "version_major": 2,
       "version_minor": 0
      },
      "text/plain": [
       "Training epoch 9:   0%|          | 0/782 [00:00<?, ?it/s]"
      ]
     },
     "metadata": {},
     "output_type": "display_data"
    },
    {
     "data": {
      "application/vnd.jupyter.widget-view+json": {
       "model_id": "10a62b5601ef4b52aaee91ee701e1559",
       "version_major": 2,
       "version_minor": 0
      },
      "text/plain": [
       "Training epoch 10:   0%|          | 0/782 [00:00<?, ?it/s]"
      ]
     },
     "metadata": {},
     "output_type": "display_data"
    }
   ],
   "source": [
    "losses = trainer.train_rounds(epochs=10, rounds=10, sim_per_round=10000, batch_size=128, n_obs=100)"
   ]
  },
  {
   "cell_type": "code",
   "execution_count": 6,
   "metadata": {},
   "outputs": [],
   "source": [
    "def param_list_to_mean_cov(theta, D):\n",
    "    # setup\n",
    "    n_sim = theta.shape[0]\n",
    "    mean = theta[:, :D]\n",
    "    cov_list = theta[:, D:]\n",
    "    tril_idx1, tril_idx2 = np.tril_indices(D)\n",
    "    cov = np.zeros((n_sim, D, D))\n",
    "    \n",
    "    # fill cov matrix\n",
    "    for i in range(n_sim):\n",
    "        # write from flattened array into in lower triangular matrix\n",
    "        cov[i, tril_idx1, tril_idx2] = cov_list[i, :]\n",
    "        \n",
    "        # mirror lower triangular matrix to upper triangle\n",
    "        cov[i] = cov[i] + cov[i].T - np.diag(np.diag(cov[i]))\n",
    "    return mean, cov\n",
    "\n",
    "def cov_to_corr(cov, std_devs_on_diagonal=True, epsilon=1e-6):\n",
    "    corr = np.zeros_like(cov)\n",
    "    n_sim = cov.shape[0]\n",
    "    \n",
    "    for i in range(n_sim):\n",
    "        # extract 2D matrix\n",
    "        Sigma = cov[i, :, :]\n",
    "        \n",
    "        # transform 2D cov matrix into corr matrix\n",
    "        std_devs = np.sqrt(np.maximum(np.diag(Sigma), epsilon))\n",
    "        Dinv = np.diag(1 / std_devs)\n",
    "        corr[i] = Dinv @ Sigma @ Dinv\n",
    "        \n",
    "        # increase information by putting SDs on diagonal instead of 1's\n",
    "        if std_devs_on_diagonal:\n",
    "            np.fill_diagonal(corr[i], std_devs)\n",
    "            \n",
    "    return corr\n",
    "\n",
    "def theta_cov_to_corr(theta, D):\n",
    "    mean, cov = param_list_to_mean_cov(theta, D=D)\n",
    "    corr = cov_to_corr(cov)\n",
    "    theta_corr = param_transform_full_cov((mean, corr))\n",
    "    return theta_corr\n",
    "\n",
    "def true_vs_estimated_tril(theta_true, theta_est, param_names, D, dpi=300,\n",
    "                      figsize=(20, 4), show=True, filename=None, font_size=12):\n",
    "    \"\"\" Plots a scatter plot with abline of the estimated posterior means vs true values.\n",
    "\n",
    "    Parameters\n",
    "    ----------\n",
    "    theta_true: np.array\n",
    "        Array of true parameters.\n",
    "    theta_est: np.array\n",
    "        Array of estimated parameters.\n",
    "    param_names: list\n",
    "        List of parameter names for plotting.\n",
    "    D : int\n",
    "        Number of dimensions of parameters.\n",
    "    dpi: int, default:300\n",
    "        Dots per inch (dpi) for the plot.\n",
    "    figsize: tuple(int, int), default: (20,4)\n",
    "        Figure size.\n",
    "    show: boolean, default: True\n",
    "        Controls if the plot will be shown\n",
    "    filename: str, default: None\n",
    "        Filename if plot shall be saved\n",
    "    font_size: int, default: 12\n",
    "        Font size\n",
    "\n",
    "    \"\"\"\n",
    "    \n",
    "    idx = 0\n",
    "\n",
    "    # Plot settings\n",
    "    plt.rcParams['font.size'] = font_size\n",
    "\n",
    "    # Determine n_subplots dynamically\n",
    "    n_row = D+1\n",
    "    n_col = D\n",
    "\n",
    "    # Initialize figure\n",
    "    f, axarr = plt.subplots(n_row, n_col, figsize=figsize)\n",
    "        \n",
    "    # --- Plot true vs estimated posterior means on a single row --- #\n",
    "    \n",
    "    for i in range(n_row):\n",
    "        for j in range(n_col):\n",
    "            if j>(i-1) and i != 0:\n",
    "                axarr[i, j].axis('off')\n",
    "            else:\n",
    "                # Plot analytic vs estimated\n",
    "                axarr[i, j].scatter(theta_est[:, idx], theta_true[:, idx], color='black', alpha=0.4)\n",
    "\n",
    "                # get axis limits and set equal x and y limits\n",
    "                lower_lim = min(axarr[i, j].get_xlim()[0], axarr[i, j].get_ylim()[0])\n",
    "                upper_lim = max(axarr[i, j].get_xlim()[1], axarr[i, j].get_ylim()[1])\n",
    "                axarr[i, j].set_xlim((lower_lim, upper_lim))\n",
    "                axarr[i, j].set_ylim((lower_lim, upper_lim))\n",
    "                axarr[i, j].plot(axarr[i, j].get_xlim(), axarr[i, j].get_xlim(), '--', color='black')\n",
    "\n",
    "                # Compute NRMSE\n",
    "                rmse = np.sqrt(np.mean( (theta_est[:, idx] - theta_true[:, idx])**2 ))\n",
    "                nrmse = rmse / (theta_true[:, idx].max() - theta_true[:, idx].min())\n",
    "                axarr[i, j].text(0.1, 0.9, 'NRMSE={:.3f}'.format(nrmse),\n",
    "                             horizontalalignment='left',\n",
    "                             verticalalignment='center',\n",
    "                             transform=axarr[i, j].transAxes,\n",
    "                             size=10)\n",
    "\n",
    "                # Compute R2\n",
    "                #r2 = r2_score(theta_true[:, j], theta_est[:, j])\n",
    "                #axarr[j].text(0.1, 0.8, '$R^2$={:.3f}'.format(r2),\n",
    "                #             horizontalalignment='left',\n",
    "                #             verticalalignment='center',\n",
    "                #             transform=axarr[j].transAxes, \n",
    "                #             size=10)\n",
    "\n",
    "                if j == 0 and i == 0 or 0==0:\n",
    "                    # Label plot\n",
    "                    axarr[i, j].set_xlabel('Estimated')\n",
    "                    axarr[i, j].set_ylabel('True')\n",
    "                axarr[i, j].set_title(param_names[idx])\n",
    "                axarr[i, j].spines['right'].set_visible(False)\n",
    "                axarr[i, j].spines['top'].set_visible(False)\n",
    "                \n",
    "                idx += 1\n",
    "    \n",
    "    # Adjust spaces\n",
    "    f.tight_layout()\n",
    "    \n",
    "    if filename is not None:\n",
    "        f.savefig(filename)\n",
    "\n",
    "    if show:\n",
    "        plt.show()\n",
    "\n"
   ]
  },
  {
   "cell_type": "markdown",
   "metadata": {},
   "source": [
    "### Analytic posterior"
   ]
  },
  {
   "cell_type": "code",
   "execution_count": 7,
   "metadata": {},
   "outputs": [],
   "source": [
    "def analytic_joint_posterior_normal_inverse_wishart(X, mu_0, lamda_0, Psi_0, nu_0):\n",
    "    n_sim, n_obs, D = X.shape\n",
    "    mu_n = [None] * n_sim\n",
    "    lamda_n = [None] * n_sim\n",
    "    Psi_n = [None] * n_sim\n",
    "    nu_n = [None] * n_sim\n",
    "    \n",
    "    for i in range(n_sim):\n",
    "        x = X[i, :, :]\n",
    "        x_bar = np.mean(x, axis=0)\n",
    "        C = np.dot((x-x_bar).T, x-x_bar)\n",
    "        \n",
    "        mu_n[i] = (lamda_0 * mu_0 + n_obs*x_bar) / (lamda_0 + n_obs)\n",
    "        lamda_n[i] = lamda_0 + n_obs\n",
    "        nu_n[i] = nu_0 + n_obs\n",
    "        Psi_n[i] = Psi_0 + C + ((lamda_0*n_obs)/(lamda_0+n_obs)) * np.dot(x_bar-mu_0, (x_bar-mu_0).T)\n",
    "        \n",
    "    return mu_n, lamda_n, Psi_n, nu_n\n",
    "\n",
    "\n",
    "def marginal_posterior_normal_inverse_wishart(mu_n, lamda_n, Psi_n, nu_n):\n",
    "    D = mu_n[0].shape[0]\n",
    "    n_sim = len(mu_n)\n",
    "    \n",
    "    marginal_mu_distributions = [None] * n_sim\n",
    "    marginal_Sigma_distributions = [None] * n_sim\n",
    "\n",
    "    for i in range(n_sim):\n",
    "        # mu_p\n",
    "        marginal_mu_distributions[i] = stats.multivariate_t(\n",
    "            loc=mu_n[i], \n",
    "            shape=np.linalg.inv(Psi_n[i]) / (lamda_n[i]*(nu_n[i] - D + 1)), \n",
    "            df=nu_n[i] - D + 1\n",
    "        )\n",
    "        \n",
    "        # Sigma_p\n",
    "        marginal_Sigma_distributions[i] = stats.invwishart(nu_n[i], Psi_n[i])\n",
    "    \n",
    "    return marginal_mu_distributions, marginal_Sigma_distributions"
   ]
  },
  {
   "cell_type": "code",
   "execution_count": 8,
   "metadata": {},
   "outputs": [],
   "source": [
    "def adversarial_diagnostics_mvn_full_cov(trainer, theta, x, mu_0=0.0, lamda_0=5, Psi_0=np.eye(5), nu_0=10, \n",
    "                                         print_plots=False, filename=None):\n",
    "    param_samples = trainer.network.sample(x, n_samples=300)\n",
    "    param_means = np.mean(param_samples, axis=1)\n",
    "\n",
    "    param_means = theta_cov_to_corr(param_means, D=D)\n",
    "\n",
    "    mu_n, lamda_n, Psi_n, nu_n = analytic_joint_posterior_normal_inverse_wishart(x, mu_0, lamda_0, Psi_0, nu_0)\n",
    "\n",
    "    marginal_mu_p, marginal_Sigma_p = marginal_posterior_normal_inverse_wishart(mu_n, lamda_n, Psi_n, nu_n)\n",
    "\n",
    "    mu_p_means = np.array([dist.loc for dist in marginal_mu_p])\n",
    "    Sigma_p_covs = np.array([marginal_Sigma_p[i].scale / (nu_n[i]-D-1) for i in range(len(marginal_Sigma_p))])\n",
    "\n",
    "    theta_analytical_posterior = param_transform_full_cov((mu_p_means, Sigma_p_covs))\n",
    "    theta_analytical_posterior = theta_cov_to_corr(theta_analytical_posterior, D=D)\n",
    "\n",
    "    param_names = [r'$\\mu_%i$'%i for i in range(1, D+1)] + \\\n",
    "    [r'$\\sigma_%i$'%(i+1) if i==j else r'cor$_{%i%i}$'%(i+1, j+1) for (i, j) in zip(*np.tril_indices(D))]\n",
    "\n",
    "    # analytical posterior\n",
    "    true_vs_estimated_tril(theta_analytical_posterior, param_means, param_names, D, figsize=(20,20), filename=f\"{filename}_true_analytic.{FILEFORMAT}\")\n",
    "\n",
    "        \n",
    "    \n",
    "    if print_plots:\n",
    "        s = np.array(trainer.network.summary_net(x))\n",
    "        sns.pairplot(pd.DataFrame(s, columns=['s_{}'.format(i) for i in range(1, s.shape[1]+1)]), kind=\"kde\")\n",
    "        if filename is not None:\n",
    "            plt.savefig(f\"{filename}_summary_response.{FILEFORMAT}\")"
   ]
  },
  {
   "cell_type": "markdown",
   "metadata": {},
   "source": [
    "### (A0) Baseline"
   ]
  },
  {
   "cell_type": "code",
   "execution_count": 9,
   "metadata": {},
   "outputs": [
    {
     "data": {
      "image/png": "[encoded data removed]",
      "text/plain": [
       "<Figure size 1440x1440 with 30 Axes>"
      ]
     },
     "metadata": {
      "needs_background": "light"
     },
     "output_type": "display_data"
    }
   ],
   "source": [
    "mu_0o = 0.0\n",
    "lamda_0o = 5\n",
    "Psi_0o = np.eye(D)\n",
    "nu_0o = 10\n",
    "prior = NormalInverseWishartPrior(D=D, mu_0=mu_0o, lamda_0=lamda_0o, Psi_0=Psi_0o, nu_0=nu_0o)\n",
    "simulator = GaussianMeanCovSimulator()\n",
    "generative_model = GenerativeModel(prior, simulator, param_transform=param_transform_full_cov)\n",
    "\n",
    "theta, x = generative_model(200, 100)\n",
    "\n",
    "adversarial_diagnostics_mvn_full_cov(trainer, theta=theta, x=x, \n",
    "                                     #print_plots=True,\n",
    "                                    filename=\"plots/abf_mvn_full_baseline\")"
   ]
  },
  {
   "cell_type": "markdown",
   "metadata": {},
   "source": [
    "### (A1) - c"
   ]
  },
  {
   "cell_type": "code",
   "execution_count": null,
   "metadata": {},
   "outputs": [],
   "source": [
    "mu_0o = 2\n",
    "lamda_0o = 5\n",
    "Psi_0o = 1.5 * np.eye(D)\n",
    "nu_0o = 10\n",
    "prior = NormalInverseWishartPrior(D=D, mu_0=mu_0o, lamda_0=lamda_0o, Psi_0=Psi_0o, nu_0=nu_0o)\n",
    "simulator = GaussianMeanCovSimulator()\n",
    "generative_model = GenerativeModel(prior, simulator, param_transform=param_transform_full_cov)\n",
    "\n",
    "theta, x = generative_model(200, 100)\n",
    "\n",
    "\n",
    "adversarial_diagnostics_mvn_full_cov(trainer, theta=theta, x=x, \n",
    "                                     #print_plots=True,\n",
    "                                    filename=\"plots/abf_mvn_full_prior\")"
   ]
  },
  {
   "cell_type": "markdown",
   "metadata": {},
   "source": [
    "### (A2)\n",
    "\n",
    "$\\boldsymbol{x}^{(i)}\\sim t_2(\\boldsymbol{\\mu}^{(i)}, \\boldsymbol{\\Sigma}^{(i)})$"
   ]
  },
  {
   "cell_type": "code",
   "execution_count": null,
   "metadata": {},
   "outputs": [],
   "source": [
    "class MultivariateTSimulatorFullCov:\n",
    "    def __init__(self, df=2):\n",
    "        self.df = df\n",
    "\n",
    "    def simulate_data(self, mean, cov, n_obs):\n",
    "        x = stats.multivariate_t(loc=mean, shape=cov, df=self.df).rvs(n_obs)\n",
    "        return x\n",
    "\n",
    "    def generate_multiple_datasets(self, p_samples, n_obs):\n",
    "        mean, cov = p_samples\n",
    "        n_sim = mean.shape[0]\n",
    "        theta_dim = mean.shape[1]\n",
    "        sim_data = np.zeros((n_sim, n_obs, theta_dim))\n",
    "\n",
    "        for bi in range(n_sim):\n",
    "            sim_data[bi] = self.simulate_data(mean[bi], cov[bi], n_obs)\n",
    "        return sim_data.astype(np.float32)\n",
    "\n",
    "    def __call__(self, p_samples, n_obs):\n",
    "        return self.generate_multiple_datasets(p_samples, n_obs)"
   ]
  },
  {
   "cell_type": "code",
   "execution_count": null,
   "metadata": {},
   "outputs": [],
   "source": [
    "mu_0o = 1.0\n",
    "lamda_0o = 5\n",
    "Psi_0o = np.eye(D)\n",
    "nu_0o = 10\n",
    "prior = NormalInverseWishartPrior(D=D, mu_0=mu_0o, lamda_0=lamda_0o, Psi_0=Psi_0o, nu_0=nu_0o)\n",
    "simulator = MultivariateTSimulatorFullCov(df=2)\n",
    "generative_model = GenerativeModel(prior, simulator, param_transform=param_transform_full_cov)\n",
    "\n",
    "theta, x = generative_model(200, 100)\n",
    "\n",
    "\n",
    "adversarial_diagnostics_mvn_full_cov(trainer, theta=theta, x=x, \n",
    "                                     #print_plots=True,\n",
    "                                    filename=\"plots/abf_mvn_full_simulator\")"
   ]
  },
  {
   "cell_type": "markdown",
   "metadata": {},
   "source": [
    "## (A3) Contamination"
   ]
  },
  {
   "cell_type": "code",
   "execution_count": null,
   "metadata": {},
   "outputs": [],
   "source": [
    "mu_0o = 0.0\n",
    "lamda_0o = 5\n",
    "Psi_0o = np.eye(D)\n",
    "nu_0o = 10\n",
    "prior = NormalInverseWishartPrior(D=D, mu_0=mu_0o, lamda_0=lamda_0o, Psi_0=Psi_0o, nu_0=nu_0o)\n",
    "simulator = GaussianMeanCovSimulator()\n",
    "generative_model = GenerativeModel(prior, simulator, param_transform=param_transform_full_cov)\n",
    "\n",
    "theta, x = generative_model(200, 100)\n",
    "\n",
    "n_sim, n_obs, data_dim = x.shape\n",
    "\n",
    "\n",
    "lamda = 0.5\n",
    "\n",
    "x = noisify_x(x, lamda = lamda,\n",
    "                      noise_sampler = partial(beta_noise_sampler, a=2, b=5, tau=1))\n",
    "\n",
    "adversarial_diagnostics_mvn_full_cov(trainer, theta=theta, x=x, \n",
    "                                     #print_plots=True,\n",
    "                                    filename=\"plots/abf_mvn_full_noise\")"
   ]
  },
  {
   "cell_type": "markdown",
   "metadata": {},
   "source": [
    "# Summary space: MD and MMD plots"
   ]
  },
  {
   "cell_type": "code",
   "execution_count": null,
   "metadata": {},
   "outputs": [],
   "source": [
    "lamda_0 = 5\n",
    "nu_0 = 10\n",
    "\n",
    "n_loc = 101\n",
    "n_scale = 101\n",
    "prior_loc = np.linspace(-6.0, 6.0, num = n_loc)\n",
    "prior_scale = np.linspace(0.10, 5.90, num = n_scale)\n",
    "P1, P2 = np.meshgrid(prior_loc, prior_scale)\n",
    "\n",
    "if RERUN_GRID_EXPERIMENT:\n",
    "    _, x_star = trainer._forward_inference(200, 100)\n",
    "    s_star = np.array(trainer.network.summary_net(x_star))\n",
    "\n",
    "    MMD = np.zeros((n_scale, n_loc))\n",
    "    for i in tqdm(range(n_scale)):\n",
    "        for j in range(n_loc):\n",
    "            p1 = P1[i, j]\n",
    "            p2 = P2[i, j]\n",
    "            prior = NormalInverseWishartPrior(D=D, mu_0=p1, lamda_0=lamda_0, Psi_0=p2 * np.eye(D), nu_0=nu_0)\n",
    "            simulator = GaussianMeanCovSimulator()\n",
    "            generative_model = GenerativeModel(prior, simulator, param_transform=param_transform_full_cov)\n",
    "            _, x_o = generative_model(200, 100)\n",
    "            s_o = np.array(trainer.network.summary_net(x_o))\n",
    "            MMD[i, j] = float(maximum_mean_discrepancy(s_o, s_star, squared=False))\n",
    "    np.save(f\"data/MMD_grid_experiments/MVN_full_MMD_grid_prior.npy\", MMD)\n",
    "    \n",
    "MMD = np.load(f\"data/MMD_grid_experiments/MVN_full_MMD_grid_prior.npy\")\n",
    "plt.figure(figsize=(10, 5))\n",
    "plt.pcolor(P1, P2, MMD, shading=\"nearest\", rasterized=True)\n",
    "plt.xlabel(r\"$\\mu_0$ (prior location)\")\n",
    "plt.ylabel(r\"$\\tau_0$ (scale factor of $\\Psi_0$)\")\n",
    "plt.axhline(y=1.0, linestyle=\"--\", color=\"lightgreen\", alpha=.80)\n",
    "plt.axvline(x=0.0, linestyle=\"--\", color=\"lightgreen\", alpha=.80)\n",
    "\n",
    "plt.xticks([-5, 0, 5])\n",
    "\n",
    "#plt.plot(2, 1.5, linewidth=10, alpha=1.0, \n",
    "#         marker=\"o\", markersize=20, markeredgewidth=5.0, markeredgecolor=\"white\", markerfacecolor = color_codes[\"Prior location + scale\"]\n",
    "#        )\n",
    "#plt.plot(0, 2.5, linewidth=10, alpha=1.0, \n",
    "#         marker=\"o\", markersize=20, markeredgewidth=5.0, markeredgecolor=\"white\", markerfacecolor = color_codes[\"Prior scale\"]\n",
    "#        )\n",
    "#plt.plot(5, 1, linewidth=10, alpha=1.0, \n",
    "#         marker=\"o\", markersize=20, markeredgewidth=5.0, markeredgecolor=\"white\", markerfacecolor = color_codes[\"Prior location\"]\n",
    "#        )\n",
    "#\n",
    "#plt.plot(0, 1, linewidth=10, alpha=1.0, \n",
    "#         marker=\"o\", markersize=20, markeredgewidth=5.0, markeredgecolor=\"white\", markerfacecolor = color_codes[\"No MMS\"]\n",
    "#        )\n",
    "\n",
    "\n",
    "cbar = plt.colorbar()\n",
    "cbar.ax.set_xlabel(r\"$\\widehat{\\mathrm{rMMD}}$\")\n",
    "plt.savefig(f\"plots/abf_mvn_full_mmd_grid_prior.{FILEFORMAT}\", bbox_inches=\"tight\", dpi=DPI)"
   ]
  },
  {
   "cell_type": "code",
   "execution_count": null,
   "metadata": {},
   "outputs": [],
   "source": [
    "mu_0 = 0\n",
    "Psi_0 = np.eye(D)\n",
    "lamda_0 = 5\n",
    "nu_0 = 10\n",
    "\n",
    "\n",
    "n_df = 19\n",
    "n_lamda = 101\n",
    "df_list = np.arange(2, n_df+2)\n",
    "lamda_list = np.linspace(0.0, 1.0, num = n_lamda)\n",
    "\n",
    "df_grid, lamda_grid = np.meshgrid(df_list, lamda_list)\n",
    "\n",
    "if RERUN_GRID_EXPERIMENT:\n",
    "    _, x = trainer._forward_inference(200, 100)\n",
    "    z_psi = np.array(trainer.network.summary_net(x))\n",
    "\n",
    "    MMD = np.zeros((n_lamda, n_df))\n",
    "    for i in tqdm(range(n_lamda)):\n",
    "        for j in range(n_df):\n",
    "            df = df_grid[i, j]\n",
    "            lamda = lamda_grid[i, j]\n",
    "\n",
    "            prior = NormalInverseWishartPrior(D=D, mu_0=mu_0, lamda_0=lamda_0, Psi_0=Psi_0, nu_0=nu_0)\n",
    "            simulator = MultivariateTSimulatorFullCov(df=df)\n",
    "            generative_model = GenerativeModel(prior, simulator, param_transform=param_transform_full_cov)\n",
    "            \n",
    "            _, x_o = generative_model(200, 100)\n",
    "            x_o = noisify_x(x_o, lamda = lamda,\n",
    "                      noise_sampler = partial(beta_noise_sampler, a=2, b=5, tau=np.std(x_o)))\n",
    "            \n",
    "            s_o = np.array(trainer.network.summary_net(x_o))\n",
    "            MMD[i, j] = float(maximum_mean_discrepancy(s_o, z_psi, squared=False))\n",
    "    np.save(f\"data/MMD_grid_experiments/MVN_full_MMD_grid_likelihood_noise.npy\", MMD)\n",
    "    \n",
    "\n",
    "\n",
    "MMD = np.load(f\"data/MMD_grid_experiments/MVN_full_MMD_grid_likelihood_noise.npy\")\n",
    "plt.figure(figsize=(10, 5))\n",
    "plt.pcolor(lamda_list, df_list, MMD.T, shading=\"nearest\", rasterized=True, vmin=0)\n",
    "\n",
    "plt.xlabel(r\"$\\lambda$ (noise fraction)\")\n",
    "plt.ylabel(r\"$\\nu$ (simulator df)\")\n",
    "\n",
    "plt.axvline(x=0.0, linestyle=\"--\", color=\"lightgreen\", alpha=1.00, linewidth=2)\n",
    "#plt.axhline(y=1.0, linestyle=\"--\", color=\"lightgreen\", alpha=1.00, linewidth=2)\n",
    "\n",
    "\n",
    "#plt.plot(0.5, 1, linewidth=10, alpha=1.0, \n",
    "#         marker=\"o\", markersize=20, markeredgewidth=5.0, markeredgecolor=\"white\", markerfacecolor = color_codes[\"Noise\"]\n",
    "#        )\n",
    "#plt.plot(0, 1, linewidth=10, alpha=1.0, \n",
    "#         marker=\"o\", markersize=20, markeredgewidth=5.0, markeredgecolor=\"white\", markerfacecolor = color_codes[\"No MMS\"]\n",
    "#        )\n",
    "#plt.plot(0, 10, linewidth=10, alpha=1.0, \n",
    "#         marker=MarkerStyle(\"o\"), markersize=20, markeredgewidth=5.0, markeredgecolor=\"white\", markerfacecolor = color_codes[\"Simulator\"]\n",
    "#        )\n",
    "\n",
    "plt.xlim(-0.02)\n",
    "#plt.ylim(0)\n",
    "plt.yticks([2, 10, 20])\n",
    "plt.gca().invert_yaxis()\n",
    "\n",
    "\n",
    "cbar = plt.colorbar()\n",
    "cbar.ax.set_xlabel(r\"$\\widehat{\\mathrm{rMMD}}$\")\n",
    "\n",
    "plt.savefig(f\"plots/abf_mvn_full_mmd_grid_likelihood_noise.{FILEFORMAT}\", bbox_inches=\"tight\", dpi=DPI)"
   ]
  },
  {
   "cell_type": "code",
   "execution_count": null,
   "metadata": {},
   "outputs": [],
   "source": []
  }
 ],
 "metadata": {
  "kernelspec": {
   "display_name": "Python 3 (ipykernel)",
   "language": "python",
   "name": "python3"
  },
  "language_info": {
   "codemirror_mode": {
    "name": "ipython",
    "version": 3
   },
   "file_extension": ".py",
   "mimetype": "text/x-python",
   "name": "python",
   "nbconvert_exporter": "python",
   "pygments_lexer": "ipython3",
   "version": "3.9.12"
  }
 },
 "nbformat": 4,
 "nbformat_minor": 4
}
